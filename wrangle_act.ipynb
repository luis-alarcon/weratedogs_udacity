{
 "cells": [
  {
   "cell_type": "markdown",
   "metadata": {},
   "source": [
    "<h2>Gathering Data</h2>"
   ]
  },
  {
   "cell_type": "markdown",
   "metadata": {},
   "source": [
    "<h3>Python Packages used in the Project<h3>"
   ]
  },
  {
   "cell_type": "code",
   "execution_count": 1,
   "metadata": {},
   "outputs": [
    {
     "name": "stderr",
     "output_type": "stream",
     "text": [
      "/anaconda3/lib/python3.6/site-packages/ggplot/utils.py:81: FutureWarning: pandas.tslib is deprecated and will be removed in a future version.\n",
      "You can access Timestamp as pandas.Timestamp\n",
      "  pd.tslib.Timestamp,\n"
     ]
    }
   ],
   "source": [
    "import pandas as pd\n",
    "import numpy as np\n",
    "import requests\n",
    "import tweepy\n",
    "import json\n",
    "import re\n",
    "import json\n",
    "import matplotlib.pyplot as plt\n",
    "%matplotlib inline \n",
    "import ggplot\n",
    "# there was an issue important however the solution is found in \n",
    "#https://stackoverflow.com/questions/50591982/importerror-cannot-import-name-timestamp"
   ]
  },
  {
   "cell_type": "markdown",
   "metadata": {},
   "source": [
    "<h4>Loading the Image Prediction File</h4>"
   ]
  },
  {
   "cell_type": "code",
   "execution_count": 2,
   "metadata": {},
   "outputs": [
    {
     "data": {
      "text/html": [
       "<div>\n",
       "<style scoped>\n",
       "    .dataframe tbody tr th:only-of-type {\n",
       "        vertical-align: middle;\n",
       "    }\n",
       "\n",
       "    .dataframe tbody tr th {\n",
       "        vertical-align: top;\n",
       "    }\n",
       "\n",
       "    .dataframe thead th {\n",
       "        text-align: right;\n",
       "    }\n",
       "</style>\n",
       "<table border=\"1\" class=\"dataframe\">\n",
       "  <thead>\n",
       "    <tr style=\"text-align: right;\">\n",
       "      <th></th>\n",
       "      <th>tweet_id</th>\n",
       "      <th>jpg_url</th>\n",
       "      <th>img_num</th>\n",
       "      <th>p1</th>\n",
       "      <th>p1_conf</th>\n",
       "      <th>p1_dog</th>\n",
       "      <th>p2</th>\n",
       "      <th>p2_conf</th>\n",
       "      <th>p2_dog</th>\n",
       "      <th>p3</th>\n",
       "      <th>p3_conf</th>\n",
       "      <th>p3_dog</th>\n",
       "    </tr>\n",
       "  </thead>\n",
       "  <tbody>\n",
       "    <tr>\n",
       "      <th>0</th>\n",
       "      <td>666020888022790149</td>\n",
       "      <td>https://pbs.twimg.com/media/CT4udn0WwAA0aMy.jpg</td>\n",
       "      <td>1</td>\n",
       "      <td>Welsh_springer_spaniel</td>\n",
       "      <td>0.465074</td>\n",
       "      <td>True</td>\n",
       "      <td>collie</td>\n",
       "      <td>0.156665</td>\n",
       "      <td>True</td>\n",
       "      <td>Shetland_sheepdog</td>\n",
       "      <td>0.061428</td>\n",
       "      <td>True</td>\n",
       "    </tr>\n",
       "    <tr>\n",
       "      <th>1</th>\n",
       "      <td>666029285002620928</td>\n",
       "      <td>https://pbs.twimg.com/media/CT42GRgUYAA5iDo.jpg</td>\n",
       "      <td>1</td>\n",
       "      <td>redbone</td>\n",
       "      <td>0.506826</td>\n",
       "      <td>True</td>\n",
       "      <td>miniature_pinscher</td>\n",
       "      <td>0.074192</td>\n",
       "      <td>True</td>\n",
       "      <td>Rhodesian_ridgeback</td>\n",
       "      <td>0.072010</td>\n",
       "      <td>True</td>\n",
       "    </tr>\n",
       "    <tr>\n",
       "      <th>2</th>\n",
       "      <td>666033412701032449</td>\n",
       "      <td>https://pbs.twimg.com/media/CT4521TWwAEvMyu.jpg</td>\n",
       "      <td>1</td>\n",
       "      <td>German_shepherd</td>\n",
       "      <td>0.596461</td>\n",
       "      <td>True</td>\n",
       "      <td>malinois</td>\n",
       "      <td>0.138584</td>\n",
       "      <td>True</td>\n",
       "      <td>bloodhound</td>\n",
       "      <td>0.116197</td>\n",
       "      <td>True</td>\n",
       "    </tr>\n",
       "  </tbody>\n",
       "</table>\n",
       "</div>"
      ],
      "text/plain": [
       "             tweet_id                                          jpg_url  \\\n",
       "0  666020888022790149  https://pbs.twimg.com/media/CT4udn0WwAA0aMy.jpg   \n",
       "1  666029285002620928  https://pbs.twimg.com/media/CT42GRgUYAA5iDo.jpg   \n",
       "2  666033412701032449  https://pbs.twimg.com/media/CT4521TWwAEvMyu.jpg   \n",
       "\n",
       "   img_num                      p1   p1_conf  p1_dog                  p2  \\\n",
       "0        1  Welsh_springer_spaniel  0.465074    True              collie   \n",
       "1        1                 redbone  0.506826    True  miniature_pinscher   \n",
       "2        1         German_shepherd  0.596461    True            malinois   \n",
       "\n",
       "    p2_conf  p2_dog                   p3   p3_conf  p3_dog  \n",
       "0  0.156665    True    Shetland_sheepdog  0.061428    True  \n",
       "1  0.074192    True  Rhodesian_ridgeback  0.072010    True  \n",
       "2  0.138584    True           bloodhound  0.116197    True  "
      ]
     },
     "execution_count": 2,
     "metadata": {},
     "output_type": "execute_result"
    }
   ],
   "source": [
    "#Loading File\n",
    "\n",
    "url = \"https://d17h27t6h515a5.cloudfront.net/topher/2017/August/599fd2ad_image-predictions/image-predictions.tsv\"\n",
    "i_predictions=pd.read_csv(url, \"\\t\")\n",
    "i_predictions.head(3)"
   ]
  },
  {
   "cell_type": "code",
   "execution_count": 3,
   "metadata": {},
   "outputs": [
    {
     "name": "stdout",
     "output_type": "stream",
     "text": [
      "<class 'pandas.core.frame.DataFrame'>\n",
      "RangeIndex: 2075 entries, 0 to 2074\n",
      "Data columns (total 12 columns):\n",
      "tweet_id    2075 non-null int64\n",
      "jpg_url     2075 non-null object\n",
      "img_num     2075 non-null int64\n",
      "p1          2075 non-null object\n",
      "p1_conf     2075 non-null float64\n",
      "p1_dog      2075 non-null bool\n",
      "p2          2075 non-null object\n",
      "p2_conf     2075 non-null float64\n",
      "p2_dog      2075 non-null bool\n",
      "p3          2075 non-null object\n",
      "p3_conf     2075 non-null float64\n",
      "p3_dog      2075 non-null bool\n",
      "dtypes: bool(3), float64(3), int64(2), object(4)\n",
      "memory usage: 152.1+ KB\n"
     ]
    }
   ],
   "source": [
    "#Saving File\n",
    "i_predictions.info()\n",
    "path = \"./datasets/image-predictions.tsv\"\n",
    "i_predictions.to_csv(path, index=False, sep='\\t', encoding='utf-8')"
   ]
  },
  {
   "cell_type": "markdown",
   "metadata": {},
   "source": [
    "<h4>Loading Twitter Archive Enhanced file from Udacity</h4>"
   ]
  },
  {
   "cell_type": "code",
   "execution_count": 4,
   "metadata": {},
   "outputs": [
    {
     "data": {
      "text/html": [
       "<div>\n",
       "<style scoped>\n",
       "    .dataframe tbody tr th:only-of-type {\n",
       "        vertical-align: middle;\n",
       "    }\n",
       "\n",
       "    .dataframe tbody tr th {\n",
       "        vertical-align: top;\n",
       "    }\n",
       "\n",
       "    .dataframe thead th {\n",
       "        text-align: right;\n",
       "    }\n",
       "</style>\n",
       "<table border=\"1\" class=\"dataframe\">\n",
       "  <thead>\n",
       "    <tr style=\"text-align: right;\">\n",
       "      <th></th>\n",
       "      <th>tweet_id</th>\n",
       "      <th>in_reply_to_status_id</th>\n",
       "      <th>in_reply_to_user_id</th>\n",
       "      <th>timestamp</th>\n",
       "      <th>source</th>\n",
       "      <th>text</th>\n",
       "      <th>retweeted_status_id</th>\n",
       "      <th>retweeted_status_user_id</th>\n",
       "      <th>retweeted_status_timestamp</th>\n",
       "      <th>expanded_urls</th>\n",
       "      <th>rating_numerator</th>\n",
       "      <th>rating_denominator</th>\n",
       "      <th>name</th>\n",
       "      <th>doggo</th>\n",
       "      <th>floofer</th>\n",
       "      <th>pupper</th>\n",
       "      <th>puppo</th>\n",
       "    </tr>\n",
       "  </thead>\n",
       "  <tbody>\n",
       "    <tr>\n",
       "      <th>0</th>\n",
       "      <td>892420643555336193</td>\n",
       "      <td>NaN</td>\n",
       "      <td>NaN</td>\n",
       "      <td>2017-08-01 16:23:56 +0000</td>\n",
       "      <td>&lt;a href=\"http://twitter.com/download/iphone\" r...</td>\n",
       "      <td>This is Phineas. He's a mystical boy. Only eve...</td>\n",
       "      <td>NaN</td>\n",
       "      <td>NaN</td>\n",
       "      <td>NaN</td>\n",
       "      <td>https://twitter.com/dog_rates/status/892420643...</td>\n",
       "      <td>13</td>\n",
       "      <td>10</td>\n",
       "      <td>Phineas</td>\n",
       "      <td>None</td>\n",
       "      <td>None</td>\n",
       "      <td>None</td>\n",
       "      <td>None</td>\n",
       "    </tr>\n",
       "    <tr>\n",
       "      <th>1</th>\n",
       "      <td>892177421306343426</td>\n",
       "      <td>NaN</td>\n",
       "      <td>NaN</td>\n",
       "      <td>2017-08-01 00:17:27 +0000</td>\n",
       "      <td>&lt;a href=\"http://twitter.com/download/iphone\" r...</td>\n",
       "      <td>This is Tilly. She's just checking pup on you....</td>\n",
       "      <td>NaN</td>\n",
       "      <td>NaN</td>\n",
       "      <td>NaN</td>\n",
       "      <td>https://twitter.com/dog_rates/status/892177421...</td>\n",
       "      <td>13</td>\n",
       "      <td>10</td>\n",
       "      <td>Tilly</td>\n",
       "      <td>None</td>\n",
       "      <td>None</td>\n",
       "      <td>None</td>\n",
       "      <td>None</td>\n",
       "    </tr>\n",
       "    <tr>\n",
       "      <th>2</th>\n",
       "      <td>891815181378084864</td>\n",
       "      <td>NaN</td>\n",
       "      <td>NaN</td>\n",
       "      <td>2017-07-31 00:18:03 +0000</td>\n",
       "      <td>&lt;a href=\"http://twitter.com/download/iphone\" r...</td>\n",
       "      <td>This is Archie. He is a rare Norwegian Pouncin...</td>\n",
       "      <td>NaN</td>\n",
       "      <td>NaN</td>\n",
       "      <td>NaN</td>\n",
       "      <td>https://twitter.com/dog_rates/status/891815181...</td>\n",
       "      <td>12</td>\n",
       "      <td>10</td>\n",
       "      <td>Archie</td>\n",
       "      <td>None</td>\n",
       "      <td>None</td>\n",
       "      <td>None</td>\n",
       "      <td>None</td>\n",
       "    </tr>\n",
       "  </tbody>\n",
       "</table>\n",
       "</div>"
      ],
      "text/plain": [
       "             tweet_id  in_reply_to_status_id  in_reply_to_user_id  \\\n",
       "0  892420643555336193                    NaN                  NaN   \n",
       "1  892177421306343426                    NaN                  NaN   \n",
       "2  891815181378084864                    NaN                  NaN   \n",
       "\n",
       "                   timestamp  \\\n",
       "0  2017-08-01 16:23:56 +0000   \n",
       "1  2017-08-01 00:17:27 +0000   \n",
       "2  2017-07-31 00:18:03 +0000   \n",
       "\n",
       "                                              source  \\\n",
       "0  <a href=\"http://twitter.com/download/iphone\" r...   \n",
       "1  <a href=\"http://twitter.com/download/iphone\" r...   \n",
       "2  <a href=\"http://twitter.com/download/iphone\" r...   \n",
       "\n",
       "                                                text  retweeted_status_id  \\\n",
       "0  This is Phineas. He's a mystical boy. Only eve...                  NaN   \n",
       "1  This is Tilly. She's just checking pup on you....                  NaN   \n",
       "2  This is Archie. He is a rare Norwegian Pouncin...                  NaN   \n",
       "\n",
       "   retweeted_status_user_id retweeted_status_timestamp  \\\n",
       "0                       NaN                        NaN   \n",
       "1                       NaN                        NaN   \n",
       "2                       NaN                        NaN   \n",
       "\n",
       "                                       expanded_urls  rating_numerator  \\\n",
       "0  https://twitter.com/dog_rates/status/892420643...                13   \n",
       "1  https://twitter.com/dog_rates/status/892177421...                13   \n",
       "2  https://twitter.com/dog_rates/status/891815181...                12   \n",
       "\n",
       "   rating_denominator     name doggo floofer pupper puppo  \n",
       "0                  10  Phineas  None    None   None  None  \n",
       "1                  10    Tilly  None    None   None  None  \n",
       "2                  10   Archie  None    None   None  None  "
      ]
     },
     "execution_count": 4,
     "metadata": {},
     "output_type": "execute_result"
    }
   ],
   "source": [
    "# Loading File\n",
    "\n",
    "url = \"https://d17h27t6h515a5.cloudfront.net/topher/2017/August/59a4e958_twitter-archive-enhanced/twitter-archive-enhanced.csv\"\n",
    "t_archive = pd.read_csv(url)\n",
    "t_archive.head(3)"
   ]
  },
  {
   "cell_type": "code",
   "execution_count": 5,
   "metadata": {},
   "outputs": [
    {
     "name": "stdout",
     "output_type": "stream",
     "text": [
      "<class 'pandas.core.frame.DataFrame'>\n",
      "RangeIndex: 2356 entries, 0 to 2355\n",
      "Data columns (total 17 columns):\n",
      "tweet_id                      2356 non-null int64\n",
      "in_reply_to_status_id         78 non-null float64\n",
      "in_reply_to_user_id           78 non-null float64\n",
      "timestamp                     2356 non-null object\n",
      "source                        2356 non-null object\n",
      "text                          2356 non-null object\n",
      "retweeted_status_id           181 non-null float64\n",
      "retweeted_status_user_id      181 non-null float64\n",
      "retweeted_status_timestamp    181 non-null object\n",
      "expanded_urls                 2297 non-null object\n",
      "rating_numerator              2356 non-null int64\n",
      "rating_denominator            2356 non-null int64\n",
      "name                          2356 non-null object\n",
      "doggo                         2356 non-null object\n",
      "floofer                       2356 non-null object\n",
      "pupper                        2356 non-null object\n",
      "puppo                         2356 non-null object\n",
      "dtypes: float64(4), int64(3), object(10)\n",
      "memory usage: 313.0+ KB\n"
     ]
    }
   ],
   "source": [
    "# Saving file\n",
    "t_archive.info()\n",
    "path = \"./datasets/twitter-archive-enhanced.csv\"\n",
    "t_archive.to_csv(path, index=False)"
   ]
  },
  {
   "cell_type": "markdown",
   "metadata": {},
   "source": [
    "<h4>Loading information gathered from twitter app</h4>\n",
    "\n",
    "<p>The main framework for the code shown bellow comes from the following <a href =\"https://stackoverflow.com/questions/47612822/how-to-create-pandas-dataframe-from-twitter-search-api\">link</a>, which is a stack overflow thread.; \n",
    "</p>\n",
    "\n",
    "<p>There was an error in the first \"<i>json.dumps</i>\" json did not recognize the object type \"Status\" generated by tweepy. The solution for these problem was found in this <a href=\"https://stackoverflow.com/questions/27900451/convert-tweepy-status-object-into-json\">link</a> belonging to another stack overlow thread.</p>"
   ]
  },
  {
   "cell_type": "code",
   "execution_count": 6,
   "metadata": {},
   "outputs": [],
   "source": [
    "consumer_key = ' '\n",
    "consumer_secret = ' '\n",
    "access_token = ' '\n",
    "access_secret = ' '\n",
    "\n",
    "auth = tweepy.OAuthHandler(consumer_key, consumer_secret)\n",
    "auth.set_access_token(access_token, access_secret)\n",
    "api = tweepy.API(auth, wait_on_rate_limit=True,wait_on_rate_limit_notify=True)\n"
   ]
  },
  {
   "cell_type": "code",
   "execution_count": 7,
   "metadata": {},
   "outputs": [
    {
     "name": "stderr",
     "output_type": "stream",
     "text": [
      "Rate limit reached. Sleeping for: 640\n",
      "Rate limit reached. Sleeping for: 638\n"
     ]
    }
   ],
   "source": [
    "list_of_tweets = []\n",
    "cant_find_tweets_for_those_ids = []\n",
    "for tweet_id in t_archive['tweet_id']:   \n",
    "    try:\n",
    "        list_of_tweets.append(api.get_status(tweet_id))\n",
    "    except Exception as e:\n",
    "        cant_find_tweets_for_those_ids.append(tweet_id)"
   ]
  },
  {
   "cell_type": "code",
   "execution_count": 8,
   "metadata": {},
   "outputs": [],
   "source": [
    "my_list_of_dicts = []\n",
    "for each_json_tweet in list_of_tweets:\n",
    "    my_list_of_dicts.append(each_json_tweet)\n",
    "\n"
   ]
  },
  {
   "cell_type": "code",
   "execution_count": 9,
   "metadata": {},
   "outputs": [],
   "source": [
    "#The save the dictionary in a txt file\n",
    "\n",
    "with open('./datasets/tweet_json.txt', 'w') as file:\n",
    "        file.write(json.dumps([json_tweet._json for json_tweet in my_list_of_dicts], indent=4))\n",
    "        #This is where the TypeError  was generated\n",
    "        "
   ]
  },
  {
   "cell_type": "code",
   "execution_count": 10,
   "metadata": {},
   "outputs": [],
   "source": [
    "my_demo_list = []\n",
    "with open('./datasets/tweet_json.txt', encoding='utf-8') as json_file:  \n",
    "    all_data = json.load(json_file)\n",
    "    for each_dictionary in all_data:\n",
    "        tweet_id = each_dictionary['id']\n",
    "        whole_tweet = each_dictionary['text']\n",
    "        only_url = whole_tweet[whole_tweet.find('https'):]\n",
    "        favorite_count = each_dictionary['favorite_count']\n",
    "        retweet_count = each_dictionary['retweet_count']\n",
    "        created_at = each_dictionary['created_at']\n",
    "        whole_source = each_dictionary['source']\n",
    "        only_device = whole_source[whole_source.find('rel=\"nofollow\">') + 15:-4]\n",
    "        source = only_device\n",
    "        retweeted_status = each_dictionary['retweeted_status'] = each_dictionary.get('retweeted_status', 'Original tweet')\n",
    "        if retweeted_status == 'Original tweet':\n",
    "            url = only_url\n",
    "        else:\n",
    "            retweeted_status = 'This is a retweet'\n",
    "            url = 'This is a retweet'\n",
    "\n",
    "        my_demo_list.append({'tweet_id': str(tweet_id),\n",
    "                             'favorite_count': int(favorite_count),\n",
    "                             'retweet_count': int(retweet_count),\n",
    "                             'url': url,\n",
    "                             'created_at': created_at,\n",
    "                             'source': source,\n",
    "                             'retweeted_status': retweeted_status,\n",
    "                            })\n",
    "        df_tweet_count = pd.DataFrame(my_demo_list, columns = ['tweet_id', 'favorite_count', \n",
    "                                                       'retweet_count', 'created_at',\n",
    "                                                       'source', 'retweeted_status', 'url'])"
   ]
  },
  {
   "cell_type": "code",
   "execution_count": 11,
   "metadata": {},
   "outputs": [
    {
     "name": "stdout",
     "output_type": "stream",
     "text": [
      "<class 'pandas.core.frame.DataFrame'>\n",
      "RangeIndex: 2341 entries, 0 to 2340\n",
      "Data columns (total 7 columns):\n",
      "tweet_id            2341 non-null object\n",
      "favorite_count      2341 non-null int64\n",
      "retweet_count       2341 non-null int64\n",
      "created_at          2341 non-null object\n",
      "source              2341 non-null object\n",
      "retweeted_status    2341 non-null object\n",
      "url                 2341 non-null object\n",
      "dtypes: int64(2), object(5)\n",
      "memory usage: 128.1+ KB\n"
     ]
    }
   ],
   "source": [
    "#We save the final tweet_json dataset into a csv file for easy access.\n",
    "df_tweet_count.info()\n",
    "path = \"./datasets/tweet_json.csv\"\n",
    "df_tweet_count.to_csv(path,index=False)"
   ]
  },
  {
   "cell_type": "code",
   "execution_count": 12,
   "metadata": {},
   "outputs": [],
   "source": [
    "t_archive = pd.read_csv('./datasets/twitter-archive-enhanced.csv')\n",
    "i_predictions = pd.read_csv('./datasets/image-predictions.tsv', sep=\"\\t\")"
   ]
  },
  {
   "cell_type": "markdown",
   "metadata": {},
   "source": [
    "<h4> Loading Tweet Jason File</h4>"
   ]
  },
  {
   "cell_type": "code",
   "execution_count": 13,
   "metadata": {},
   "outputs": [
    {
     "data": {
      "text/html": [
       "<div>\n",
       "<style scoped>\n",
       "    .dataframe tbody tr th:only-of-type {\n",
       "        vertical-align: middle;\n",
       "    }\n",
       "\n",
       "    .dataframe tbody tr th {\n",
       "        vertical-align: top;\n",
       "    }\n",
       "\n",
       "    .dataframe thead th {\n",
       "        text-align: right;\n",
       "    }\n",
       "</style>\n",
       "<table border=\"1\" class=\"dataframe\">\n",
       "  <thead>\n",
       "    <tr style=\"text-align: right;\">\n",
       "      <th></th>\n",
       "      <th>tweet_id</th>\n",
       "      <th>favorite_count</th>\n",
       "      <th>retweet_count</th>\n",
       "      <th>created_at</th>\n",
       "      <th>source</th>\n",
       "      <th>retweeted_status</th>\n",
       "      <th>url</th>\n",
       "    </tr>\n",
       "  </thead>\n",
       "  <tbody>\n",
       "    <tr>\n",
       "      <th>0</th>\n",
       "      <td>892420643555336193</td>\n",
       "      <td>38393</td>\n",
       "      <td>8431</td>\n",
       "      <td>Tue Aug 01 16:23:56 +0000 2017</td>\n",
       "      <td>Twitter for iPhone</td>\n",
       "      <td>Original tweet</td>\n",
       "      <td>https://t.co/MgUWQ76dJU</td>\n",
       "    </tr>\n",
       "    <tr>\n",
       "      <th>1</th>\n",
       "      <td>892177421306343426</td>\n",
       "      <td>32887</td>\n",
       "      <td>6212</td>\n",
       "      <td>Tue Aug 01 00:17:27 +0000 2017</td>\n",
       "      <td>Twitter for iPhone</td>\n",
       "      <td>Original tweet</td>\n",
       "      <td>https://t.co/aQFSeaCu9L</td>\n",
       "    </tr>\n",
       "    <tr>\n",
       "      <th>2</th>\n",
       "      <td>891815181378084864</td>\n",
       "      <td>24786</td>\n",
       "      <td>4111</td>\n",
       "      <td>Mon Jul 31 00:18:03 +0000 2017</td>\n",
       "      <td>Twitter for iPhone</td>\n",
       "      <td>Original tweet</td>\n",
       "      <td>https://t.co/r0YlrsGCgy</td>\n",
       "    </tr>\n",
       "  </tbody>\n",
       "</table>\n",
       "</div>"
      ],
      "text/plain": [
       "             tweet_id  favorite_count  retweet_count  \\\n",
       "0  892420643555336193           38393           8431   \n",
       "1  892177421306343426           32887           6212   \n",
       "2  891815181378084864           24786           4111   \n",
       "\n",
       "                       created_at              source retweeted_status  \\\n",
       "0  Tue Aug 01 16:23:56 +0000 2017  Twitter for iPhone   Original tweet   \n",
       "1  Tue Aug 01 00:17:27 +0000 2017  Twitter for iPhone   Original tweet   \n",
       "2  Mon Jul 31 00:18:03 +0000 2017  Twitter for iPhone   Original tweet   \n",
       "\n",
       "                       url  \n",
       "0  https://t.co/MgUWQ76dJU  \n",
       "1  https://t.co/aQFSeaCu9L  \n",
       "2  https://t.co/r0YlrsGCgy  "
      ]
     },
     "execution_count": 13,
     "metadata": {},
     "output_type": "execute_result"
    }
   ],
   "source": [
    "df_tweet_count.head(3)"
   ]
  },
  {
   "cell_type": "markdown",
   "metadata": {},
   "source": [
    "<h4>Quality</h4>"
   ]
  },
  {
   "cell_type": "markdown",
   "metadata": {},
   "source": [
    "<h5>Null Values</h5>"
   ]
  },
  {
   "cell_type": "code",
   "execution_count": 14,
   "metadata": {},
   "outputs": [
    {
     "data": {
      "text/plain": [
       "False"
      ]
     },
     "execution_count": 14,
     "metadata": {},
     "output_type": "execute_result"
    }
   ],
   "source": [
    "#Check for null values\n",
    "i_predictions.isnull().values.any()"
   ]
  },
  {
   "cell_type": "code",
   "execution_count": 15,
   "metadata": {},
   "outputs": [
    {
     "data": {
      "text/plain": [
       "False"
      ]
     },
     "execution_count": 15,
     "metadata": {},
     "output_type": "execute_result"
    }
   ],
   "source": [
    "#Check for null values\n",
    "t_archive[\"tweet_id\"].isnull().values.any()"
   ]
  },
  {
   "cell_type": "code",
   "execution_count": 16,
   "metadata": {},
   "outputs": [
    {
     "data": {
      "text/plain": [
       "False"
      ]
     },
     "execution_count": 16,
     "metadata": {},
     "output_type": "execute_result"
    }
   ],
   "source": [
    "#Check for null values\n",
    "t_archive[\"rating_numerator\"].isnull().values.any()"
   ]
  },
  {
   "cell_type": "code",
   "execution_count": 17,
   "metadata": {},
   "outputs": [
    {
     "data": {
      "text/plain": [
       "False"
      ]
     },
     "execution_count": 17,
     "metadata": {},
     "output_type": "execute_result"
    }
   ],
   "source": [
    "#Check for null values\n",
    "t_archive[\"rating_denominator\"].isnull().values.any()"
   ]
  },
  {
   "cell_type": "code",
   "execution_count": 18,
   "metadata": {},
   "outputs": [
    {
     "data": {
      "text/plain": [
       "False"
      ]
     },
     "execution_count": 18,
     "metadata": {},
     "output_type": "execute_result"
    }
   ],
   "source": [
    "#Check for null values\n",
    "df_tweet_count.isnull().values.any()"
   ]
  },
  {
   "cell_type": "markdown",
   "metadata": {},
   "source": [
    "<p>No Null values are not found in main columns of twiter archive; columns rating_numerator and rating_denominator.</p>\n",
    "\n",
    "<p>We will proceed to other observations.</p>"
   ]
  },
  {
   "cell_type": "code",
   "execution_count": 19,
   "metadata": {},
   "outputs": [],
   "source": [
    "# Copy the dataframes\n",
    "# w_ = working dataframe name\n",
    "\n",
    "w_i_predictions = i_predictions.copy()\n",
    "w_t_archive = t_archive.copy()\n",
    "w_df_tweet_count = df_tweet_count.copy()"
   ]
  },
  {
   "cell_type": "markdown",
   "metadata": {},
   "source": [
    "<h5>Twitter Archive Enhanced</h5>\n",
    "\n",
    "<p>We will start by issues found within the data frame Twitter Archive Enhanced. </p>\n",
    "\n",
    "<ul>\n",
    "    <li><b>tweet_id:</b> The data type needs to be changed from int64 to object.</li>\n",
    "    <li><b>in_reply_to_status_id:</b> erroneous data types.</li>\n",
    "    <li><b>in_reply_to_user_id:</b> erroneous data types.</li>\n",
    "    <li><b>name:</b> check if the name of the dog is the one mentioned in the tweet text. if it is not found remove it</li>\n",
    "    <li><b>No retweets:</b> remove retweet data as well as columns associated with retweets.</li>\n",
    "    <li><b>tweets with ratings with images.</b></li>\n",
    "    <li><b>timestamp:</b> Change to datetime data type</li>\n",
    "    <li><b>doggo, floofer, pupper, puppo:</b> change to one variable.</li>\n",
    "    <li><b>rating:</b> Create a new column name rating which is the result of rating_numerator/rating_denomintor.</li>\n",
    "</ul>"
   ]
  },
  {
   "cell_type": "code",
   "execution_count": 20,
   "metadata": {},
   "outputs": [],
   "source": [
    "# tweet_id\n",
    "w_t_archive.tweet_id = w_t_archive.tweet_id.astype(str)\n",
    "\n",
    "# in_reply_to_status_id\n",
    "w_t_archive.in_reply_to_status_id = w_t_archive.in_reply_to_status_id.astype(str)\n",
    "\n",
    "# in_reply_to_user_id\n",
    "w_t_archive.in_reply_to_user_id = w_t_archive.in_reply_to_user_id.astype(str)\n",
    "\n",
    "# name\n",
    "name = [] # list for whether the name is in text\n",
    "## loop to find whether the name is found in the text\n",
    "for i in range(len(w_t_archive[\"name\"])):\n",
    "    if \"None\" in w_t_archive[\"name\"][i]:\n",
    "        name.append(\"False\")\n",
    "    else:\n",
    "        name.append(\"True\")\n",
    "## convert name into list\n",
    "name = pd.Series(name)\n",
    "## drop all entries where the name is not found in the tweet text\n",
    "f_name = name[name == \"False\"]\n",
    "i_f_name = f_name.index.values.tolist()\n",
    "w_t_archive = w_t_archive.drop(w_t_archive.index[i_f_name])\n",
    "\n",
    "# no retweets\n",
    "w_t_archive = w_t_archive[w_t_archive.retweeted_status_id.isnull()]\n",
    "w_t_archive = w_t_archive.drop(['retweeted_status_id','retweeted_status_user_id','retweeted_status_timestamp'],axis=1)\n",
    "\n",
    "# tweets with ratings with images\n",
    "w_i_predictions.tweet_id = w_i_predictions.tweet_id.astype(str)\n",
    "i_id = w_i_predictions[['tweet_id']]\n",
    "w_t_archive = pd.merge(w_t_archive,i_id,on='tweet_id')\n",
    "\n",
    "# change timestamp to datetime data type\n",
    "w_t_archive.timestamp = pd.to_datetime(w_t_archive.timestamp)\n",
    "\n",
    "# doggo, floofer, pupper, puppo\n",
    "## replace None with \" \"\n",
    "list = [\"doggo\",\"floofer\",\"pupper\",\"puppo\"]\n",
    "for i in list:\n",
    "    w_t_archive[i] = w_t_archive[i].replace(\"None\", \"\")\n",
    "## replace with stage column and drop the columns\n",
    "w_t_archive['stage']=w_t_archive.doggo.str.cat(w_t_archive.floofer).str.cat(w_t_archive.pupper).str.cat(w_t_archive.puppo)\n",
    "w_t_archive=w_t_archive.drop(['doggo','floofer','pupper','puppo'],axis=1)\n",
    "w_t_archive.stage=w_t_archive.stage.replace('',np.nan)\n",
    "\n",
    "#rating\n",
    "w_t_archive[\"rating\"]= w_t_archive.rating_numerator/w_t_archive.rating_denominator"
   ]
  },
  {
   "cell_type": "code",
   "execution_count": 21,
   "metadata": {},
   "outputs": [
    {
     "data": {
      "text/html": [
       "<div>\n",
       "<style scoped>\n",
       "    .dataframe tbody tr th:only-of-type {\n",
       "        vertical-align: middle;\n",
       "    }\n",
       "\n",
       "    .dataframe tbody tr th {\n",
       "        vertical-align: top;\n",
       "    }\n",
       "\n",
       "    .dataframe thead th {\n",
       "        text-align: right;\n",
       "    }\n",
       "</style>\n",
       "<table border=\"1\" class=\"dataframe\">\n",
       "  <thead>\n",
       "    <tr style=\"text-align: right;\">\n",
       "      <th></th>\n",
       "      <th>tweet_id</th>\n",
       "      <th>in_reply_to_status_id</th>\n",
       "      <th>in_reply_to_user_id</th>\n",
       "      <th>timestamp</th>\n",
       "      <th>source</th>\n",
       "      <th>text</th>\n",
       "      <th>expanded_urls</th>\n",
       "      <th>rating_numerator</th>\n",
       "      <th>rating_denominator</th>\n",
       "      <th>name</th>\n",
       "      <th>stage</th>\n",
       "      <th>rating</th>\n",
       "    </tr>\n",
       "  </thead>\n",
       "  <tbody>\n",
       "    <tr>\n",
       "      <th>0</th>\n",
       "      <td>892420643555336193</td>\n",
       "      <td>nan</td>\n",
       "      <td>nan</td>\n",
       "      <td>2017-08-01 16:23:56</td>\n",
       "      <td>&lt;a href=\"http://twitter.com/download/iphone\" r...</td>\n",
       "      <td>This is Phineas. He's a mystical boy. Only eve...</td>\n",
       "      <td>https://twitter.com/dog_rates/status/892420643...</td>\n",
       "      <td>13</td>\n",
       "      <td>10</td>\n",
       "      <td>Phineas</td>\n",
       "      <td>NaN</td>\n",
       "      <td>1.3</td>\n",
       "    </tr>\n",
       "    <tr>\n",
       "      <th>1</th>\n",
       "      <td>892177421306343426</td>\n",
       "      <td>nan</td>\n",
       "      <td>nan</td>\n",
       "      <td>2017-08-01 00:17:27</td>\n",
       "      <td>&lt;a href=\"http://twitter.com/download/iphone\" r...</td>\n",
       "      <td>This is Tilly. She's just checking pup on you....</td>\n",
       "      <td>https://twitter.com/dog_rates/status/892177421...</td>\n",
       "      <td>13</td>\n",
       "      <td>10</td>\n",
       "      <td>Tilly</td>\n",
       "      <td>NaN</td>\n",
       "      <td>1.3</td>\n",
       "    </tr>\n",
       "    <tr>\n",
       "      <th>2</th>\n",
       "      <td>891815181378084864</td>\n",
       "      <td>nan</td>\n",
       "      <td>nan</td>\n",
       "      <td>2017-07-31 00:18:03</td>\n",
       "      <td>&lt;a href=\"http://twitter.com/download/iphone\" r...</td>\n",
       "      <td>This is Archie. He is a rare Norwegian Pouncin...</td>\n",
       "      <td>https://twitter.com/dog_rates/status/891815181...</td>\n",
       "      <td>12</td>\n",
       "      <td>10</td>\n",
       "      <td>Archie</td>\n",
       "      <td>NaN</td>\n",
       "      <td>1.2</td>\n",
       "    </tr>\n",
       "    <tr>\n",
       "      <th>3</th>\n",
       "      <td>891689557279858688</td>\n",
       "      <td>nan</td>\n",
       "      <td>nan</td>\n",
       "      <td>2017-07-30 15:58:51</td>\n",
       "      <td>&lt;a href=\"http://twitter.com/download/iphone\" r...</td>\n",
       "      <td>This is Darla. She commenced a snooze mid meal...</td>\n",
       "      <td>https://twitter.com/dog_rates/status/891689557...</td>\n",
       "      <td>13</td>\n",
       "      <td>10</td>\n",
       "      <td>Darla</td>\n",
       "      <td>NaN</td>\n",
       "      <td>1.3</td>\n",
       "    </tr>\n",
       "    <tr>\n",
       "      <th>4</th>\n",
       "      <td>891327558926688256</td>\n",
       "      <td>nan</td>\n",
       "      <td>nan</td>\n",
       "      <td>2017-07-29 16:00:24</td>\n",
       "      <td>&lt;a href=\"http://twitter.com/download/iphone\" r...</td>\n",
       "      <td>This is Franklin. He would like you to stop ca...</td>\n",
       "      <td>https://twitter.com/dog_rates/status/891327558...</td>\n",
       "      <td>12</td>\n",
       "      <td>10</td>\n",
       "      <td>Franklin</td>\n",
       "      <td>NaN</td>\n",
       "      <td>1.2</td>\n",
       "    </tr>\n",
       "    <tr>\n",
       "      <th>5</th>\n",
       "      <td>890971913173991426</td>\n",
       "      <td>nan</td>\n",
       "      <td>nan</td>\n",
       "      <td>2017-07-28 16:27:12</td>\n",
       "      <td>&lt;a href=\"http://twitter.com/download/iphone\" r...</td>\n",
       "      <td>Meet Jax. He enjoys ice cream so much he gets ...</td>\n",
       "      <td>https://gofundme.com/ydvmve-surgery-for-jax,ht...</td>\n",
       "      <td>13</td>\n",
       "      <td>10</td>\n",
       "      <td>Jax</td>\n",
       "      <td>NaN</td>\n",
       "      <td>1.3</td>\n",
       "    </tr>\n",
       "  </tbody>\n",
       "</table>\n",
       "</div>"
      ],
      "text/plain": [
       "             tweet_id in_reply_to_status_id in_reply_to_user_id  \\\n",
       "0  892420643555336193                   nan                 nan   \n",
       "1  892177421306343426                   nan                 nan   \n",
       "2  891815181378084864                   nan                 nan   \n",
       "3  891689557279858688                   nan                 nan   \n",
       "4  891327558926688256                   nan                 nan   \n",
       "5  890971913173991426                   nan                 nan   \n",
       "\n",
       "            timestamp                                             source  \\\n",
       "0 2017-08-01 16:23:56  <a href=\"http://twitter.com/download/iphone\" r...   \n",
       "1 2017-08-01 00:17:27  <a href=\"http://twitter.com/download/iphone\" r...   \n",
       "2 2017-07-31 00:18:03  <a href=\"http://twitter.com/download/iphone\" r...   \n",
       "3 2017-07-30 15:58:51  <a href=\"http://twitter.com/download/iphone\" r...   \n",
       "4 2017-07-29 16:00:24  <a href=\"http://twitter.com/download/iphone\" r...   \n",
       "5 2017-07-28 16:27:12  <a href=\"http://twitter.com/download/iphone\" r...   \n",
       "\n",
       "                                                text  \\\n",
       "0  This is Phineas. He's a mystical boy. Only eve...   \n",
       "1  This is Tilly. She's just checking pup on you....   \n",
       "2  This is Archie. He is a rare Norwegian Pouncin...   \n",
       "3  This is Darla. She commenced a snooze mid meal...   \n",
       "4  This is Franklin. He would like you to stop ca...   \n",
       "5  Meet Jax. He enjoys ice cream so much he gets ...   \n",
       "\n",
       "                                       expanded_urls  rating_numerator  \\\n",
       "0  https://twitter.com/dog_rates/status/892420643...                13   \n",
       "1  https://twitter.com/dog_rates/status/892177421...                13   \n",
       "2  https://twitter.com/dog_rates/status/891815181...                12   \n",
       "3  https://twitter.com/dog_rates/status/891689557...                13   \n",
       "4  https://twitter.com/dog_rates/status/891327558...                12   \n",
       "5  https://gofundme.com/ydvmve-surgery-for-jax,ht...                13   \n",
       "\n",
       "   rating_denominator      name stage  rating  \n",
       "0                  10   Phineas   NaN     1.3  \n",
       "1                  10     Tilly   NaN     1.3  \n",
       "2                  10    Archie   NaN     1.2  \n",
       "3                  10     Darla   NaN     1.3  \n",
       "4                  10  Franklin   NaN     1.2  \n",
       "5                  10       Jax   NaN     1.3  "
      ]
     },
     "execution_count": 21,
     "metadata": {},
     "output_type": "execute_result"
    }
   ],
   "source": [
    "w_t_archive.head(6)\n"
   ]
  },
  {
   "cell_type": "markdown",
   "metadata": {},
   "source": [
    "<h5>Twitter Json</h5>\n",
    "\n",
    "<p>We will fuse twitter_json with w_t_archive.</p>"
   ]
  },
  {
   "cell_type": "code",
   "execution_count": 22,
   "metadata": {},
   "outputs": [
    {
     "name": "stdout",
     "output_type": "stream",
     "text": [
      "<class 'pandas.core.frame.DataFrame'>\n",
      "Int64Index: 1447 entries, 0 to 1446\n",
      "Data columns (total 18 columns):\n",
      "tweet_id                 1447 non-null object\n",
      "in_reply_to_status_id    1447 non-null object\n",
      "in_reply_to_user_id      1447 non-null object\n",
      "timestamp                1447 non-null datetime64[ns]\n",
      "source_x                 1447 non-null object\n",
      "text                     1447 non-null object\n",
      "expanded_urls            1447 non-null object\n",
      "rating_numerator         1447 non-null int64\n",
      "rating_denominator       1447 non-null int64\n",
      "name                     1447 non-null object\n",
      "stage                    189 non-null object\n",
      "rating                   1447 non-null float64\n",
      "favorite_count           1447 non-null int64\n",
      "retweet_count            1447 non-null int64\n",
      "created_at               1447 non-null object\n",
      "source_y                 1447 non-null object\n",
      "retweeted_status         1447 non-null object\n",
      "url                      1447 non-null object\n",
      "dtypes: datetime64[ns](1), float64(1), int64(4), object(12)\n",
      "memory usage: 214.8+ KB\n"
     ]
    }
   ],
   "source": [
    "# df3 - tweet_jason\n",
    "df_tweet_count.tweet_id=df_tweet_count.tweet_id.astype(str)\n",
    "\n",
    "df_tweet_count = df_tweet_count[~(df_tweet_count.tweet_id.duplicated())]\n",
    "w_t_archive = pd.merge(w_t_archive,df_tweet_count,on='tweet_id')\n",
    "w_t_archive[w_t_archive.tweet_id=='887473957103951883']\n",
    "missingcount_id=w_t_archive.tweet_id[w_t_archive.retweet_count.isnull()]\n",
    "\n",
    "w_t_archive.info()"
   ]
  },
  {
   "cell_type": "code",
   "execution_count": 23,
   "metadata": {},
   "outputs": [
    {
     "data": {
      "text/html": [
       "<div>\n",
       "<style scoped>\n",
       "    .dataframe tbody tr th:only-of-type {\n",
       "        vertical-align: middle;\n",
       "    }\n",
       "\n",
       "    .dataframe tbody tr th {\n",
       "        vertical-align: top;\n",
       "    }\n",
       "\n",
       "    .dataframe thead th {\n",
       "        text-align: right;\n",
       "    }\n",
       "</style>\n",
       "<table border=\"1\" class=\"dataframe\">\n",
       "  <thead>\n",
       "    <tr style=\"text-align: right;\">\n",
       "      <th></th>\n",
       "      <th>tweet_id</th>\n",
       "      <th>in_reply_to_status_id</th>\n",
       "      <th>in_reply_to_user_id</th>\n",
       "      <th>timestamp</th>\n",
       "      <th>source_x</th>\n",
       "      <th>text</th>\n",
       "      <th>expanded_urls</th>\n",
       "      <th>name</th>\n",
       "      <th>stage</th>\n",
       "      <th>rating</th>\n",
       "      <th>favorite_count</th>\n",
       "      <th>retweet_count</th>\n",
       "      <th>created_at</th>\n",
       "      <th>source_y</th>\n",
       "      <th>retweeted_status</th>\n",
       "      <th>url</th>\n",
       "    </tr>\n",
       "  </thead>\n",
       "  <tbody>\n",
       "    <tr>\n",
       "      <th>0</th>\n",
       "      <td>892420643555336193</td>\n",
       "      <td>nan</td>\n",
       "      <td>nan</td>\n",
       "      <td>2017-08-01 16:23:56</td>\n",
       "      <td>&lt;a href=\"http://twitter.com/download/iphone\" r...</td>\n",
       "      <td>This is Phineas. He's a mystical boy. Only eve...</td>\n",
       "      <td>https://twitter.com/dog_rates/status/892420643...</td>\n",
       "      <td>Phineas</td>\n",
       "      <td>NaN</td>\n",
       "      <td>1.3</td>\n",
       "      <td>38393</td>\n",
       "      <td>8431</td>\n",
       "      <td>Tue Aug 01 16:23:56 +0000 2017</td>\n",
       "      <td>Twitter for iPhone</td>\n",
       "      <td>Original tweet</td>\n",
       "      <td>https://t.co/MgUWQ76dJU</td>\n",
       "    </tr>\n",
       "    <tr>\n",
       "      <th>1</th>\n",
       "      <td>892177421306343426</td>\n",
       "      <td>nan</td>\n",
       "      <td>nan</td>\n",
       "      <td>2017-08-01 00:17:27</td>\n",
       "      <td>&lt;a href=\"http://twitter.com/download/iphone\" r...</td>\n",
       "      <td>This is Tilly. She's just checking pup on you....</td>\n",
       "      <td>https://twitter.com/dog_rates/status/892177421...</td>\n",
       "      <td>Tilly</td>\n",
       "      <td>NaN</td>\n",
       "      <td>1.3</td>\n",
       "      <td>32887</td>\n",
       "      <td>6212</td>\n",
       "      <td>Tue Aug 01 00:17:27 +0000 2017</td>\n",
       "      <td>Twitter for iPhone</td>\n",
       "      <td>Original tweet</td>\n",
       "      <td>https://t.co/aQFSeaCu9L</td>\n",
       "    </tr>\n",
       "    <tr>\n",
       "      <th>2</th>\n",
       "      <td>891815181378084864</td>\n",
       "      <td>nan</td>\n",
       "      <td>nan</td>\n",
       "      <td>2017-07-31 00:18:03</td>\n",
       "      <td>&lt;a href=\"http://twitter.com/download/iphone\" r...</td>\n",
       "      <td>This is Archie. He is a rare Norwegian Pouncin...</td>\n",
       "      <td>https://twitter.com/dog_rates/status/891815181...</td>\n",
       "      <td>Archie</td>\n",
       "      <td>NaN</td>\n",
       "      <td>1.2</td>\n",
       "      <td>24786</td>\n",
       "      <td>4111</td>\n",
       "      <td>Mon Jul 31 00:18:03 +0000 2017</td>\n",
       "      <td>Twitter for iPhone</td>\n",
       "      <td>Original tweet</td>\n",
       "      <td>https://t.co/r0YlrsGCgy</td>\n",
       "    </tr>\n",
       "  </tbody>\n",
       "</table>\n",
       "</div>"
      ],
      "text/plain": [
       "             tweet_id in_reply_to_status_id in_reply_to_user_id  \\\n",
       "0  892420643555336193                   nan                 nan   \n",
       "1  892177421306343426                   nan                 nan   \n",
       "2  891815181378084864                   nan                 nan   \n",
       "\n",
       "            timestamp                                           source_x  \\\n",
       "0 2017-08-01 16:23:56  <a href=\"http://twitter.com/download/iphone\" r...   \n",
       "1 2017-08-01 00:17:27  <a href=\"http://twitter.com/download/iphone\" r...   \n",
       "2 2017-07-31 00:18:03  <a href=\"http://twitter.com/download/iphone\" r...   \n",
       "\n",
       "                                                text  \\\n",
       "0  This is Phineas. He's a mystical boy. Only eve...   \n",
       "1  This is Tilly. She's just checking pup on you....   \n",
       "2  This is Archie. He is a rare Norwegian Pouncin...   \n",
       "\n",
       "                                       expanded_urls     name stage  rating  \\\n",
       "0  https://twitter.com/dog_rates/status/892420643...  Phineas   NaN     1.3   \n",
       "1  https://twitter.com/dog_rates/status/892177421...    Tilly   NaN     1.3   \n",
       "2  https://twitter.com/dog_rates/status/891815181...   Archie   NaN     1.2   \n",
       "\n",
       "   favorite_count  retweet_count                      created_at  \\\n",
       "0           38393           8431  Tue Aug 01 16:23:56 +0000 2017   \n",
       "1           32887           6212  Tue Aug 01 00:17:27 +0000 2017   \n",
       "2           24786           4111  Mon Jul 31 00:18:03 +0000 2017   \n",
       "\n",
       "             source_y retweeted_status                      url  \n",
       "0  Twitter for iPhone   Original tweet  https://t.co/MgUWQ76dJU  \n",
       "1  Twitter for iPhone   Original tweet  https://t.co/aQFSeaCu9L  \n",
       "2  Twitter for iPhone   Original tweet  https://t.co/r0YlrsGCgy  "
      ]
     },
     "execution_count": 23,
     "metadata": {},
     "output_type": "execute_result"
    }
   ],
   "source": [
    "#Drop columns rating_numerator and rating_denominator\n",
    "w_t_archive=w_t_archive.drop(['rating_numerator','rating_denominator'],axis=1)\n",
    "\n",
    "w_t_archive.head(3)"
   ]
  },
  {
   "cell_type": "code",
   "execution_count": 24,
   "metadata": {},
   "outputs": [
    {
     "data": {
      "text/plain": [
       "Series([], Name: tweet_id, dtype: object)"
      ]
     },
     "execution_count": 24,
     "metadata": {},
     "output_type": "execute_result"
    }
   ],
   "source": [
    "missingcount_id.head()"
   ]
  },
  {
   "cell_type": "markdown",
   "metadata": {},
   "source": [
    "<h5>Image Predictions</h5>\n",
    "\n",
    "<p>We will start by issues found within the data frame Image Predictions. </p>\n",
    "\n",
    "<ul>\n",
    "    <li><b>p1:</b> Some of the breeds predicted are not breeds. Therefore we will find whether the breeds predicted belong from a list made.</li>\n",
    "    <li><b>p2:</b> Some of the breeds predicted are not breeds. Therefore we will find whether the breeds predicted belong from a list made.</li>\n",
    "    <li><b>p3:</b> Some of the breeds predicted are not breeds. Therefore we will find whether the breeds predicted belong from a list made.</li> \n",
    "</ul>"
   ]
  },
  {
   "cell_type": "code",
   "execution_count": 25,
   "metadata": {},
   "outputs": [
    {
     "name": "stdout",
     "output_type": "stream",
     "text": [
      "546\n"
     ]
    }
   ],
   "source": [
    "breeds = [\"Affenpinscher\",\"Afghan_Hound\",\"Afghan_Shepherd\",\"Aidi\",\"Airedale_Terrier\",\n",
    "\"Akbash\",\"Akita\",\"Alno_Espanol\",\"Alaskan_Husky\",\"Alaskan_Klee_Kai\",\"Alaskan_Malamute\",\n",
    "\"Alaunt\",\"Alopekis\",\"Alpine_Dachsbracke\",\"Alpine_Mastiff\",\"Apine_Spaniel\",\"American_Akita\",\n",
    "\"American_Bulldog\",\"American_Cocker_Spaniel\",\"American_English_Coonhound\",\"American_Eskimo_Dog\",\n",
    "\"American_Foxhound\",\"American_Hairless_Terrier\",\"American_Pit_Bull_Terrier\",\"American_Staffordshire_Terrier\",\n",
    "\"American_water_Spaniel\",\"Anatolian_Shepherd_Dog\",\"Andalusian_Hound\",\"Anglo-Francais_de_Petite_Venerie\",\n",
    "\"Appenzeller_Sennenhun\",\"Braque_dlAriege\",\"Ariegeois\",\"Armant\",\"American_Gampr_Dog\",\"Artois_Hound\",\n",
    "\"Australian_Cattle_Dog\",\"Australian_Kelpie\",\"Australian_Shepherd\",\"Australian_Silky_Terrier\",\n",
    "\"Australian_Stumpy_Tail_Cattle_Dog\",\"Australian_Terrier\",\"Austrian_Black_and_Tan_Hound\",\"Bernese_Mountain_Dog\",\n",
    "\"Austrian_Pinscher\",\"Azawakh\",\"Bakharwal_Dog\",\"Barbet\",\"Basenji\",\"Basque_Shepherd_Dog\",\"Basset_Artesian_Normand\",\n",
    "\"Basset_Bleu_de_Gascogne\",\"Basset_Fauve_de_Bretagne\",\"Basset_Griffon_Vendeen_Grand\",\"Basset_Griffon_Vendeen_Petit\",\n",
    "\"Basset_Hound\",\"Bavarian_Mountain_Hound\",\"Beagle\",\"Beagle-harrier\",\"Bearded_Collie\",\"Beauceron\",\"Bedlington_Terrier\",\n",
    "\"Belgian_Shepherd_Dog\",\"Groenendael\",\"Laekenois\",\"Malinois\",\"Tervuren\",\"Bergamasco_Shepherd\",\"Berger_Blanc_Suisse\",\n",
    "\"Berger_Picard\",\"Bermese_Mountain_Dog\",\"Bichon_Frise\",\"Billy\",\"Black_and_Tan_Coonhound\",\"Black_and_Tan_Virginia_Foxhound\",\n",
    "\"Black_Norwegian_Elkhound\",\"Black_Russian_Terrier\",\"Black_Mouth_Cur\",\"Bleu_de_Gascogne,_Grand\",\"Bleu_de_Gascogne,_Petit\",\n",
    "\"Bloodhound\",\"Blue_Heeler\",\"Blue_Lacy\",\"Blue_Paul_Terrier\",\"Blue_Picardy_Spaniel\",\"Bluetick_Coonhound\",\"Boerboel\",\"Bohemian_Shepherd\",\n",
    "\"Bolognese\",\"Border_Collie\",\"Border_Terrier\",\"Borzoi\",\"Bosnian_Coarse-haired_Hound\",\"Boston_Terrier\",\"Bouvier_des_Ardennes\",\n",
    "\"Bouvier_des_Flandres\",\"Boxer\",\"Boykin_Spaniel\",\"Bracco_Italiano\",\"Braque_dAuvergne\",\"Braque_du_Bourbonnais\",\"Braque_du_Puy\",\n",
    "\"Braque_Francais\",\"Braque_Saint-Germain\",\"Brazilian_Dogo\",\"Brazilian_Terrier\",\"Briard\",\"Briquet_Griffon_Vendeen\",\"Britanny\",\"Broholmer\",\n",
    "\"Bruno_Jura_Hound\",\"Bucovina_Shepherd_Dog\",\"Bull_and_terrier\",\"Bull_Terrier\",\"Bulldog\",\"Bullenbeisser\",\"Bullmastiff\",\"Bully_Kutta\",\n",
    "\"Burgos_Pointer\",\"Cairn_Terrier\",\"Canaan_Dog\",\"Canadian_Eskimo_Dog\",\"Cane_Corso\",\"Cantabrian_Water_Dog\",\"Cao_da_Serra_de_Aires\",\n",
    "\"Cap_de_Castro_Laboreiro\",\"Cao_de_Gado_Transmontano\",\"Cao_Fila_de_Sao_Miguel\",\"Carolina_Dog\",\"Carpathian_Shepherd_Dog\",\"Catahoula_Leopard_Dog\",\n",
    "\"Catalan_Sheepdog\",\"Caucasian_Shepherd_Dog\",\"Cavalier_King_Charles_Spaniel\",\"Central_Asian_Shepherd_Dog\",\"Cesky_Fousek\",\"Cesky_Terrier\",\n",
    "\"Chesapeake_Bay_Terrier\",\"Chien_Francais_Blanc_et_Noir\",\"Chien_Francais_Blanc_et_Orange\",\"Chien_Francais_Tricolore\",\"Chien-gris\",\"Chihuahua\",\n",
    "\"chilean_Fox_Terrier\",\"Chinese_Chongqing_Dog\",\"Chinese_Crested_Dog\",\"Chinese_Imperial_Dog\",\"Chinook\",\"Chippiparai\",\"Chow_Chow\",\"Chow\",\"Cierny_Sery\",\n",
    "\"Cimeco_dellEtna\",\"Clumber_Spaniel\",\"Collie_Smooth\",\"Combai\",\"Cordoba_Fithing_Dog\",\"Coton_de_Tulear\",\"Cretan_Hound\",\"Croatian_Sheepdog\",\n",
    "\"Cumberland_Sheepdog\",\"Curly-Coated_Retreiver\",\"Cursinu\",\"Czecholosvakian_Wolfdog\",\"Dachshund\",\"Dalmatian\",\"Dandie_Dinmont_Terrier\",\n",
    "\"Danish-Swidish_Farmdog\",\"Deutsche_Bracke\",\"Doberman_Pinscher\",\"Dogo_Argentino\",\"Dogo_Cubano\",\"Dogue_de_Bordeaux\",\"Drentse_Patrijshond\",\n",
    "\"Drever\",\"Dunker\",\"Dutch_Shepherd\",\"Dutch_Smoushond\",\"East_Siberian_Laika\",\"East_European_Shepherd\",\"Elo\",\"English_Cocker_Spaniel\",\n",
    "\"English_Foxhound\",\"Mastiff\",\"English_Setter\",\"English_Shepherd\",\"English_Springer_Spaniel\",\"English_Toy_terrier\",\"English_Water_Spaniel\",\n",
    "\"English_White_Terrier\",\"Entlebucher_Mountain_Dog\",\"Estonian_Hound\",\"Estrela_Mountain_Dog\",\"Eurasier\",\"Eurohound\",\"Field_Spaniel\",\n",
    "\"Fila_Brasileiro\",\"Finnish_Hound\",\"Finnish_Lapphund\",\"Finnish_Spitz\",\"Flat-Coated_Retriever\",\"Fox_Terrier,_Smooth\",\"Fox_Terrier,_Wire\",\n",
    "\"French_Brittany\",\"French_Bulldog\",\"French_Spaniel\",\"Gaddi_Dog\",\"Galgo_Espanol\",\"Galician_Cattle_Dog\",\"Garafian_Shepherd\",\n",
    "\"Gascon_Saintongeois\",\"Georgian_Shepherd_Dog\",\"German_Longhaired_Pointer\",\"German_Pinscher\",\"German_Roughaired_Pointer\",\n",
    "\"German_Shepherd_Dog\",\"German_Shepherd\",\"German_Shorthaired_Pointer\",\"German_Spaniel\",\"German_Splitz\",\"German_Wirehaired_Pointer\",\"Giant_Schnauzer\",\n",
    "\"Glen_of_Imaal_terrier\",\"Golden_Retriever\",\"Gordon_Setter\",\"Gran_mastin_de_Borinquen\",\"Grand_Anglo_francais_Blanc_et_Noir\",\n",
    "\"Grand_Anglo-Francais_Tricolore\",\"Grand_Griffon_Vendeen\",\"Great_Dane\",\"Great_Pyrenees\",\"Greater_Swiss_Mountain_Dog\",\"Greek_Harehound\",\n",
    "\"Greenland_Dog\",\"Greyhound\",\"Griffon_Bleu_de_Gascogne\",\"griffon_Bruzellois\",\"Griffon_Fauve_de_Bretagne\",\"Griffon_Nivernais\",\n",
    "\"Guatemalan_Dogo\",\"Ha,iltonstovare\",\"Hanoover_Hound\",\"hare_Indian_Dog\",\"Harrier\",\"Havanese\",\"Hawaiian_Poi_Dog\",\"Himalayan_Sheepdog\",\n",
    "\"Hokkaido\",\"Hortaya_Borzaya\",\"Hovawart\",\"Huntaway\",\"Hygenhund\",\"Ibizan_Hound\",\"Icelandic_Sheepdog\",\"Indian_Pariah_Dog\",\n",
    "\"Indian_Spitz\",\"Irish_red_and_White_Setter\",\"Irish_Setter\",\"Irish_Terrier\",\"Irish_Water_Spaniel\",\"Irish_Wolfhound\",\n",
    "\"Istrian_Coarse-haired_Hound\",\"istrian_Short-haired_Hound\",\"italian_Greyhound\",\"jack_Russell_Terrier\",\"Jagdterrier\",\"Jamthund\",\n",
    "\"Japanese_Chin\",\"japanese_Spitz\",\"Japanese_Terrier\",\"kaikadi\",\"Kai_Ken\",\"Kangal_Dog\",\"Kanni\",\"Karakachan_Dog\",\"Karelian_Bear_Dog\",\n",
    "\"Karst_Shepherd\",\"Keeshond\",\"Kerry_Beagle\",\"Kerry_Blue_Terrier\",\"King_Charles_Spaniel\",\"King_Shepherd\",\"Kintamani\",\"Kishu_Ken\",\n",
    "\"Komondor\",\"Kooikerhondje\",\"Koolie\",\"Korean_Jindo\",\"Kromfohrlander\",\"Kumaon_Mastiff\",\"Kunming_Wolfdog\",\"Kurdish_Dog\",\"Kuri\",\"Kuvasz\",\n",
    "\"Kyi-Leo\",\"Labrador_Husky\",\"Labrador_Retreiver\",\"Largotto_Romagnolo\",\"Lakeland_Terrier\",\"Lancashire_Heeler\",\"Landseer\",\n",
    "\"Lapponian_Herder\",\"Leonberger\",\"Lhasa_Apso\",\"Lithuanian_Hound\",\"Lowchen\",\"Mackenzie_River_Husky\",\"Magyar_Agar\",\"Mahratta_Greyhound\",\n",
    "\"Majorca_Ratter\",\"Majorca_Shepherd_Dog\",\"Maltese\",\"Manchester_Terrier\",\"Maremma_Sheepdog\",\"Mcnab\",\"Maxican_hairless_Dog\",\n",
    "\"Miniature_Australian_Shepherd\",\"Miniature_American_Shepherd\",\"miniature_Fox_Terrier\",\"Miniature_Poodle\",\"Miniature_Pinscher\",\"Miniature_Schnauzer\",\n",
    "\"Miniature_Shar_Pei\",\"Romanian_Mioritic_Shepherd_Dog\",\"Molossus\",\"Molossus_of_Epirus\",\"Montenegrin_Mountain_Hound\",\"Moscow_Watchdog\",\n",
    "\"Moscow_Water_Dog\",\"Mountain_Cur\",\"Mucuchies\",\"Mudhol_Hound\",\"Mudi\",\"Munsterlander,_Large\",\"Munsterlander,_Small\",\"Neapolitan_Mastiff\",\n",
    "\"Newfoundland\",\"New_Zealand_Heading_Dog\",\"Norfolk_Spaniel\",\"Norfolk_Terrier\",\"Norrbottenspets\",\"North_Country_Beagle\",\n",
    "\"North_Country_Beagle\",\"Northern_Inuit_Dog\",\"Norwegian_Buhund\",\"Norwegian_Elkhound\",\"Norwegian_Lundehund\",\"Norwich_Terrier\",\n",
    "\"Nova_Scotia_Duck_Tolling_Retriever\",\"Old_Croatian_Sighthound\",\"Old_Danish_Pointer\",\"Old_English_Sheepdog\",\"Old_English_Terrier\",\n",
    "\"Old_german_Shepherd_Dog\",\"Old_Time_Farm_Shepherd\",\"Olde_English_Bulldogge\",\"Otterhound\",\"Pachon_Navarro\",\"Pandikona_Hunting_Dog\",\n",
    "\"Paisly_Terrier\",\"Papillon\",\"Parson_Russel_Terrier\",\"Patterdale_Terrier\",\"Pekingese\",\"Perro_de_Presa_Canario\",\"Perro_de_Presa_Mallorquin\",\n",
    "\"Peruvian_Hairless_Dog\",\"Phalene\",\"Pharaoh_Hound\",\"Phu_Quoc_Ridgeback\",\"Picardy_Spaniel\",\"Plummer_Terrier\",\"Plott_Hound\",\"Podenco_Canario\",\n",
    "\"Pointer\",\"Poitevin\",\"Polish_Greyhound\",\"Polish_Hound\",\"Polish_Hunting_Dog\",\"Polish_Lowland_Sheepdog\",\"Polish_Tatra_Sheepdog\",\"Pomeranian\",\n",
    "\"pont-Audemer_Spaniel\",\"Poodle\",\"Porcelaine\",\"Portuguese_Podengo\",\"Portuguese_Pointer\",\"Portuguese_Water_Dog\",\"Posavac_Hound\",\n",
    "\"Prazsky_Krysarik\",\"Pudelpointer\",\"Pug\",\"Puli\",\"Pumi\",\"Pungsan_Dog\",\"Pyrenean_Mastiff\",\"Pyrenean_Shepherd\",\"Rafeiro_do_Alentejo\",\n",
    "\"Rajapalayam\",\"Rampur_Greyhound\",\"Rastreador_Brasileiro\",\"Ratonero_Bodeguero_Andaluz\",\"Ratonero_Murciano_de_Huerta\",\n",
    "\"Ratonero_Valenciano\",\"Rat_Terrier\",\"Redbone_Coonhound\",\"Rhodesian_Ridgeback\",\"Rottweiler\",\"Russian_Spaniel\",\"Russian_Tracker\",\n",
    "\"Russo-European_Laika\",\"Russel_Terroer\",\"Saarloos_Wolfdog\",\"Sabueso_Espanol\",\"Sabueson_Fino_Colombiano\",\"Saint-Usuge_Spaniel\",\n",
    "\"Sakhalin_Husky\",\"Saluki\",\"Samoyed\",\"Sapsali\",\"Sarplaninac\",\"Schapendoes\",\"Schillerstovare\",\"Schipperke\",\"Standard_Schnauzer\",\n",
    "\"Schweizer_Laufhund\",\"Schwizerischer_Niederlaufhund\",\"Scotch_Collie\",\"Scottish_Deerhound\",\"Scottish_Terrier\",\"Sealyham_Terrier\",\n",
    "\"Segugio_Italiano\",\"Seppala_Siberian_Sleddog\",\"Serbian_Hound\",\"Serbian_tricolour_Hound\",\"Seskar_Seal_Dog\",\"Shar_Pei\",\"Shetland_Sheepdog\",\n",
    "\"Shiba_Inu\",\"Shih_Tzu\",\"Shikoku\",\"Shiloh_Shepherd\",\"Siberian_Husky\",\"Silken_Windhound\",\"Sinhala_Hound\",\"Skye_Terrier\",\"Sloughi\",\n",
    "\"Slovak_Cuvac\",\"Slovakian_Wirehaired_Pointer\",\"Slovensky_Kopov\",\"Smalandsstovare\",\"Small_Greek_Domestic_Dog\",\"Soft-Coated_Wheaten_Terrier\",\n",
    "\"South_Russian_Ovcharka\",\"Southern_Hound\",\"Spanish_Mastiff\",\"Spanish_Water_Dog\",\"Spinone_Italiano\",\"Sporting_Lucas_Terrier\",\"St._Bernard\",\n",
    "\"St._John's_Water_Dog\",\"Stabyhoun\",\"Staffordshire_Bull_Terrier\",\"Stephens_Cur\",\"Styrian_Coarse-haired_Hound\",\"Sussex_Spaniel\",\n",
    "\"Swedish_Vallhund\",\"Tahltan_Bear_Dog\",\"Taigan\",\"Twaiwan_Dog\",\"Talbot\",\"Tamaskan_Dog\",\"Teddy_Roosevelt_Terrier\",\"Telomian\",\"Tenterfield_Terrier\",\n",
    "\"Terceira_Mastiff\",\"Thai_Bangkaew_Dog\",\"thai_Ridgeback\",\"Tibetan_Mastiff\",\"Tibetan_Spaniel\",\"Tibetan_Terrier\",\"Tornjak\",\"Tosa\",\"Toy_Bulldog\",\n",
    "\"Toy_Fox_Terrier\",\"Toy_Manchester_Terrier\",\"Toy_Terrier\",\"Toy_Trawler_Spaniel\",\"Transylvanian_Hound\",\"treeing_Cur\",\"treeing_tennessee_Brindle\",\n",
    "\"Treeing_Walker_Coonhound\",\"Trigg_Hound\",\"Tweed_water_Spaniel\",\"Tyrolean_Hound\",\"Cimarron_Uruguayo\",\"Valencian_Ratter\",\"Vanjari_Hound\",\n",
    "\"Villano_de_las_Encartaciones\",\"Vizsla\",\"Volpino_Italiano\",\"Waimaraner\",\"Welsh_Corgi,_Cardigan\",\"Welsh_Corgi,_Pembroke\",\"Welsh_Sheepdog\",\n",
    "\"Welsh_Springer_Spaniel\",\"Welsh_Terrier\",\"West_Highland_White_Terrier\",\"West_Siberian_Laika\",\"Westphalian_Dachsbracke\",\"Wetterhoun\",\n",
    "\"Whippet\",\"White_Shepherd\",\"Wirehaired_Pointing_Griffon\",\"Wirehaired_Vizsla\",\"Wiasi_Dog\",\"Yorkshire_Terrier\",\"Blenheim_Spaniel\",\n",
    "\"Walker_Hound\",\"Maltese_Dog\",\"Malamute\",\"Black-and-Tan_Coonhound\",\"Chesapeake_Bay_Retriever\",\"Curly-Coated_Retriever\",\n",
    "\"Labrador_Retriever\",\"Pembroke\",\"Toy_Poodle\",\"Saint_Bernard\",\"Staffordshire_Bullterrier\",\"German_Short_Haired_Pointer\",\n",
    "\"Eskimo_Dog\",\"English_Springer\",\"Cocker_Spaniel\",\"Doberman\",\"Bull_Mastiff\",\"Pekinese\",\"Collie\",\"Dingo\",\"Japanese_Spaniel\",\n",
    "\"Brittany_Spaniel\",\"Weimaraner\",\"Scotch_Terrier\",\"Standard_Poodle\",\"Mexican_Hairless\",\"Wire_Haired_Fox_Terrier\",\"African_Hunting_Dog\",\n",
    "\"Silky_Terrier\"]\n",
    "\n",
    "print(len(breeds))\n"
   ]
  },
  {
   "cell_type": "code",
   "execution_count": 26,
   "metadata": {
    "scrolled": false
   },
   "outputs": [
    {
     "name": "stderr",
     "output_type": "stream",
     "text": [
      "/anaconda3/lib/python3.6/site-packages/ipykernel_launcher.py:6: SettingWithCopyWarning: \n",
      "A value is trying to be set on a copy of a slice from a DataFrame\n",
      "\n",
      "See the caveats in the documentation: http://pandas.pydata.org/pandas-docs/stable/indexing.html#indexing-view-versus-copy\n",
      "  \n",
      "/anaconda3/lib/python3.6/site-packages/ipykernel_launcher.py:12: SettingWithCopyWarning: \n",
      "A value is trying to be set on a copy of a slice from a DataFrame\n",
      "\n",
      "See the caveats in the documentation: http://pandas.pydata.org/pandas-docs/stable/indexing.html#indexing-view-versus-copy\n",
      "  if sys.path[0] == '':\n",
      "/anaconda3/lib/python3.6/site-packages/ipykernel_launcher.py:18: SettingWithCopyWarning: \n",
      "A value is trying to be set on a copy of a slice from a DataFrame\n",
      "\n",
      "See the caveats in the documentation: http://pandas.pydata.org/pandas-docs/stable/indexing.html#indexing-view-versus-copy\n"
     ]
    }
   ],
   "source": [
    "df_i_pre = i_predictions.copy()\n",
    "for breed in range(len(df_i_pre[\"p1\"])):\n",
    "    b = df_i_pre[\"p1\"][breed].lower().replace(\"_\", \" \").replace(\"-\", \" \")\n",
    "    breeds=[x.lower().replace(\"_\", \" \").replace(\"-\", \" \") for x in breeds] \n",
    "    if b not in breeds:\n",
    "        df_i_pre[\"p1\"][breed]= np.nan\n",
    "\n",
    "for breed in range(len(df_i_pre[\"p2\"])):\n",
    "    b = df_i_pre[\"p2\"][breed].lower().replace(\"_\", \" \").replace(\"-\", \" \")\n",
    "    breeds=[x.lower().replace(\"_\", \" \").replace(\"-\", \" \") for x in breeds] \n",
    "    if b not in breeds:\n",
    "        df_i_pre[\"p2\"][breed]= np.nan \n",
    "        \n",
    "for breed in range(len(df_i_pre[\"p3\"])):\n",
    "    b = df_i_pre[\"p3\"][breed].lower().replace(\"_\", \" \").replace(\"-\", \" \")\n",
    "    breeds=[x.lower().replace(\"_\", \" \").replace(\"-\", \" \") for x in breeds] \n",
    "    if b not in breeds:\n",
    "        df_i_pre[\"p3\"][breed]= np.nan "
   ]
  },
  {
   "cell_type": "code",
   "execution_count": 27,
   "metadata": {},
   "outputs": [
    {
     "data": {
      "text/html": [
       "<div>\n",
       "<style scoped>\n",
       "    .dataframe tbody tr th:only-of-type {\n",
       "        vertical-align: middle;\n",
       "    }\n",
       "\n",
       "    .dataframe tbody tr th {\n",
       "        vertical-align: top;\n",
       "    }\n",
       "\n",
       "    .dataframe thead th {\n",
       "        text-align: right;\n",
       "    }\n",
       "</style>\n",
       "<table border=\"1\" class=\"dataframe\">\n",
       "  <thead>\n",
       "    <tr style=\"text-align: right;\">\n",
       "      <th></th>\n",
       "      <th>tweet_id</th>\n",
       "      <th>jpg_url</th>\n",
       "      <th>img_num</th>\n",
       "      <th>p1</th>\n",
       "      <th>p1_conf</th>\n",
       "      <th>p1_dog</th>\n",
       "      <th>p2</th>\n",
       "      <th>p2_conf</th>\n",
       "      <th>p2_dog</th>\n",
       "      <th>p3</th>\n",
       "      <th>p3_conf</th>\n",
       "      <th>p3_dog</th>\n",
       "    </tr>\n",
       "  </thead>\n",
       "  <tbody>\n",
       "    <tr>\n",
       "      <th>0</th>\n",
       "      <td>666020888022790149</td>\n",
       "      <td>https://pbs.twimg.com/media/CT4udn0WwAA0aMy.jpg</td>\n",
       "      <td>1</td>\n",
       "      <td>Welsh_springer_spaniel</td>\n",
       "      <td>0.465074</td>\n",
       "      <td>True</td>\n",
       "      <td>collie</td>\n",
       "      <td>0.156665</td>\n",
       "      <td>True</td>\n",
       "      <td>Shetland_sheepdog</td>\n",
       "      <td>0.061428</td>\n",
       "      <td>True</td>\n",
       "    </tr>\n",
       "    <tr>\n",
       "      <th>1</th>\n",
       "      <td>666029285002620928</td>\n",
       "      <td>https://pbs.twimg.com/media/CT42GRgUYAA5iDo.jpg</td>\n",
       "      <td>1</td>\n",
       "      <td>NaN</td>\n",
       "      <td>0.506826</td>\n",
       "      <td>True</td>\n",
       "      <td>miniature_pinscher</td>\n",
       "      <td>0.074192</td>\n",
       "      <td>True</td>\n",
       "      <td>Rhodesian_ridgeback</td>\n",
       "      <td>0.072010</td>\n",
       "      <td>True</td>\n",
       "    </tr>\n",
       "    <tr>\n",
       "      <th>2</th>\n",
       "      <td>666033412701032449</td>\n",
       "      <td>https://pbs.twimg.com/media/CT4521TWwAEvMyu.jpg</td>\n",
       "      <td>1</td>\n",
       "      <td>German_shepherd</td>\n",
       "      <td>0.596461</td>\n",
       "      <td>True</td>\n",
       "      <td>malinois</td>\n",
       "      <td>0.138584</td>\n",
       "      <td>True</td>\n",
       "      <td>bloodhound</td>\n",
       "      <td>0.116197</td>\n",
       "      <td>True</td>\n",
       "    </tr>\n",
       "    <tr>\n",
       "      <th>3</th>\n",
       "      <td>666044226329800704</td>\n",
       "      <td>https://pbs.twimg.com/media/CT5Dr8HUEAA-lEu.jpg</td>\n",
       "      <td>1</td>\n",
       "      <td>Rhodesian_ridgeback</td>\n",
       "      <td>0.408143</td>\n",
       "      <td>True</td>\n",
       "      <td>NaN</td>\n",
       "      <td>0.360687</td>\n",
       "      <td>True</td>\n",
       "      <td>miniature_pinscher</td>\n",
       "      <td>0.222752</td>\n",
       "      <td>True</td>\n",
       "    </tr>\n",
       "    <tr>\n",
       "      <th>4</th>\n",
       "      <td>666049248165822465</td>\n",
       "      <td>https://pbs.twimg.com/media/CT5IQmsXIAAKY4A.jpg</td>\n",
       "      <td>1</td>\n",
       "      <td>miniature_pinscher</td>\n",
       "      <td>0.560311</td>\n",
       "      <td>True</td>\n",
       "      <td>Rottweiler</td>\n",
       "      <td>0.243682</td>\n",
       "      <td>True</td>\n",
       "      <td>Doberman</td>\n",
       "      <td>0.154629</td>\n",
       "      <td>True</td>\n",
       "    </tr>\n",
       "    <tr>\n",
       "      <th>5</th>\n",
       "      <td>666050758794694657</td>\n",
       "      <td>https://pbs.twimg.com/media/CT5Jof1WUAEuVxN.jpg</td>\n",
       "      <td>1</td>\n",
       "      <td>Bernese_mountain_dog</td>\n",
       "      <td>0.651137</td>\n",
       "      <td>True</td>\n",
       "      <td>English_springer</td>\n",
       "      <td>0.263788</td>\n",
       "      <td>True</td>\n",
       "      <td>Greater_Swiss_Mountain_dog</td>\n",
       "      <td>0.016199</td>\n",
       "      <td>True</td>\n",
       "    </tr>\n",
       "    <tr>\n",
       "      <th>6</th>\n",
       "      <td>666051853826850816</td>\n",
       "      <td>https://pbs.twimg.com/media/CT5KoJ1WoAAJash.jpg</td>\n",
       "      <td>1</td>\n",
       "      <td>NaN</td>\n",
       "      <td>0.933012</td>\n",
       "      <td>False</td>\n",
       "      <td>NaN</td>\n",
       "      <td>0.045885</td>\n",
       "      <td>False</td>\n",
       "      <td>NaN</td>\n",
       "      <td>0.017885</td>\n",
       "      <td>False</td>\n",
       "    </tr>\n",
       "  </tbody>\n",
       "</table>\n",
       "</div>"
      ],
      "text/plain": [
       "             tweet_id                                          jpg_url  \\\n",
       "0  666020888022790149  https://pbs.twimg.com/media/CT4udn0WwAA0aMy.jpg   \n",
       "1  666029285002620928  https://pbs.twimg.com/media/CT42GRgUYAA5iDo.jpg   \n",
       "2  666033412701032449  https://pbs.twimg.com/media/CT4521TWwAEvMyu.jpg   \n",
       "3  666044226329800704  https://pbs.twimg.com/media/CT5Dr8HUEAA-lEu.jpg   \n",
       "4  666049248165822465  https://pbs.twimg.com/media/CT5IQmsXIAAKY4A.jpg   \n",
       "5  666050758794694657  https://pbs.twimg.com/media/CT5Jof1WUAEuVxN.jpg   \n",
       "6  666051853826850816  https://pbs.twimg.com/media/CT5KoJ1WoAAJash.jpg   \n",
       "\n",
       "   img_num                      p1   p1_conf  p1_dog                  p2  \\\n",
       "0        1  Welsh_springer_spaniel  0.465074    True              collie   \n",
       "1        1                     NaN  0.506826    True  miniature_pinscher   \n",
       "2        1         German_shepherd  0.596461    True            malinois   \n",
       "3        1     Rhodesian_ridgeback  0.408143    True                 NaN   \n",
       "4        1      miniature_pinscher  0.560311    True          Rottweiler   \n",
       "5        1    Bernese_mountain_dog  0.651137    True    English_springer   \n",
       "6        1                     NaN  0.933012   False                 NaN   \n",
       "\n",
       "    p2_conf  p2_dog                          p3   p3_conf  p3_dog  \n",
       "0  0.156665    True           Shetland_sheepdog  0.061428    True  \n",
       "1  0.074192    True         Rhodesian_ridgeback  0.072010    True  \n",
       "2  0.138584    True                  bloodhound  0.116197    True  \n",
       "3  0.360687    True          miniature_pinscher  0.222752    True  \n",
       "4  0.243682    True                    Doberman  0.154629    True  \n",
       "5  0.263788    True  Greater_Swiss_Mountain_dog  0.016199    True  \n",
       "6  0.045885   False                         NaN  0.017885   False  "
      ]
     },
     "execution_count": 27,
     "metadata": {},
     "output_type": "execute_result"
    }
   ],
   "source": [
    "df_i_pre.head(7)"
   ]
  },
  {
   "cell_type": "markdown",
   "metadata": {},
   "source": [
    "<h4>Store Data</h4>\n",
    "\n",
    "<p>The new clean datasets will be stored in new files.</p> "
   ]
  },
  {
   "cell_type": "code",
   "execution_count": 28,
   "metadata": {},
   "outputs": [],
   "source": [
    "w_t_archive.to_csv(\"./datasets/final_twitter-archive-enhanced.csv\", index=False)\n",
    "df_i_pre.to_csv(\"./datasets/final_image-predictions.csv\", index=False)"
   ]
  },
  {
   "cell_type": "markdown",
   "metadata": {},
   "source": [
    "<h4>Analyse and Visualize Data</h4>"
   ]
  },
  {
   "cell_type": "code",
   "execution_count": 29,
   "metadata": {},
   "outputs": [
    {
     "data": {
      "text/html": [
       "<div>\n",
       "<style scoped>\n",
       "    .dataframe tbody tr th:only-of-type {\n",
       "        vertical-align: middle;\n",
       "    }\n",
       "\n",
       "    .dataframe tbody tr th {\n",
       "        vertical-align: top;\n",
       "    }\n",
       "\n",
       "    .dataframe thead th {\n",
       "        text-align: right;\n",
       "    }\n",
       "</style>\n",
       "<table border=\"1\" class=\"dataframe\">\n",
       "  <thead>\n",
       "    <tr style=\"text-align: right;\">\n",
       "      <th></th>\n",
       "      <th>rating</th>\n",
       "      <th>favorite_count</th>\n",
       "      <th>retweet_count</th>\n",
       "    </tr>\n",
       "  </thead>\n",
       "  <tbody>\n",
       "    <tr>\n",
       "      <th>count</th>\n",
       "      <td>1447.000000</td>\n",
       "      <td>1447.000000</td>\n",
       "      <td>1447.000000</td>\n",
       "    </tr>\n",
       "    <tr>\n",
       "      <th>mean</th>\n",
       "      <td>1.192581</td>\n",
       "      <td>9000.928127</td>\n",
       "      <td>2609.447132</td>\n",
       "    </tr>\n",
       "    <tr>\n",
       "      <th>std</th>\n",
       "      <td>4.648617</td>\n",
       "      <td>11881.523847</td>\n",
       "      <td>3947.478723</td>\n",
       "    </tr>\n",
       "    <tr>\n",
       "      <th>min</th>\n",
       "      <td>0.200000</td>\n",
       "      <td>105.000000</td>\n",
       "      <td>20.000000</td>\n",
       "    </tr>\n",
       "    <tr>\n",
       "      <th>25%</th>\n",
       "      <td>1.000000</td>\n",
       "      <td>2149.500000</td>\n",
       "      <td>638.500000</td>\n",
       "    </tr>\n",
       "    <tr>\n",
       "      <th>50%</th>\n",
       "      <td>1.100000</td>\n",
       "      <td>4494.000000</td>\n",
       "      <td>1433.000000</td>\n",
       "    </tr>\n",
       "    <tr>\n",
       "      <th>75%</th>\n",
       "      <td>1.200000</td>\n",
       "      <td>11534.500000</td>\n",
       "      <td>3145.500000</td>\n",
       "    </tr>\n",
       "    <tr>\n",
       "      <th>max</th>\n",
       "      <td>177.600000</td>\n",
       "      <td>123018.000000</td>\n",
       "      <td>60162.000000</td>\n",
       "    </tr>\n",
       "  </tbody>\n",
       "</table>\n",
       "</div>"
      ],
      "text/plain": [
       "            rating  favorite_count  retweet_count\n",
       "count  1447.000000     1447.000000    1447.000000\n",
       "mean      1.192581     9000.928127    2609.447132\n",
       "std       4.648617    11881.523847    3947.478723\n",
       "min       0.200000      105.000000      20.000000\n",
       "25%       1.000000     2149.500000     638.500000\n",
       "50%       1.100000     4494.000000    1433.000000\n",
       "75%       1.200000    11534.500000    3145.500000\n",
       "max     177.600000   123018.000000   60162.000000"
      ]
     },
     "execution_count": 29,
     "metadata": {},
     "output_type": "execute_result"
    }
   ],
   "source": [
    "w_t_archive.describe()"
   ]
  },
  {
   "cell_type": "markdown",
   "metadata": {},
   "source": [
    "<h5>Count of breeds predicted in P1</h5>"
   ]
  },
  {
   "cell_type": "code",
   "execution_count": 30,
   "metadata": {},
   "outputs": [
    {
     "data": {
      "text/plain": [
       "golden_retriever               150\n",
       "Labrador_retriever             100\n",
       "Pembroke                        89\n",
       "Chihuahua                       83\n",
       "pug                             57\n",
       "chow                            44\n",
       "Samoyed                         43\n",
       "toy_poodle                      39\n",
       "Pomeranian                      38\n",
       "cocker_spaniel                  30\n",
       "malamute                        30\n",
       "French_bulldog                  26\n",
       "miniature_pinscher              23\n",
       "Chesapeake_Bay_retriever        23\n",
       "Siberian_husky                  20\n",
       "Staffordshire_bullterrier       20\n",
       "German_shepherd                 20\n",
       "Shetland_sheepdog               18\n",
       "Maltese_dog                     18\n",
       "beagle                          18\n",
       "Eskimo_dog                      18\n",
       "Lakeland_terrier                17\n",
       "Rottweiler                      17\n",
       "Shih-Tzu                        17\n",
       "kuvasz                          16\n",
       "Italian_greyhound               16\n",
       "West_Highland_white_terrier     14\n",
       "Great_Pyrenees                  14\n",
       "dalmatian                       13\n",
       "vizsla                          13\n",
       "                              ... \n",
       "Mexican_hairless                 4\n",
       "Rhodesian_ridgeback              4\n",
       "Afghan_hound                     4\n",
       "Weimaraner                       4\n",
       "Norwich_terrier                  4\n",
       "Gordon_setter                    4\n",
       "keeshond                         4\n",
       "miniature_schnauzer              4\n",
       "Saluki                           4\n",
       "Tibetan_terrier                  4\n",
       "Scottish_deerhound               3\n",
       "briard                           3\n",
       "Irish_water_spaniel              3\n",
       "giant_schnauzer                  3\n",
       "Greater_Swiss_Mountain_dog       3\n",
       "Welsh_springer_spaniel           3\n",
       "Ibizan_hound                     3\n",
       "komondor                         3\n",
       "curly-coated_retriever           3\n",
       "toy_terrier                      2\n",
       "wire-haired_fox_terrier          2\n",
       "black-and-tan_coonhound          2\n",
       "Australian_terrier               2\n",
       "Sussex_spaniel                   2\n",
       "standard_schnauzer               1\n",
       "African_hunting_dog              1\n",
       "silky_terrier                    1\n",
       "Scotch_terrier                   1\n",
       "Japanese_spaniel                 1\n",
       "groenendael                      1\n",
       "Name: p1, Length: 98, dtype: int64"
      ]
     },
     "execution_count": 30,
     "metadata": {},
     "output_type": "execute_result"
    }
   ],
   "source": [
    "df_i_pre.p1.value_counts()\n"
   ]
  },
  {
   "cell_type": "code",
   "execution_count": 31,
   "metadata": {},
   "outputs": [],
   "source": [
    "p1_count = df_i_pre.p1.value_counts()\n",
    "p1_count=p1_count[0:10]\n",
    "p1_count = pd.DataFrame({\"breed\": p1_count.index,\"count\":p1_count.values})\n",
    "p1_count.to_csv(\"./datasets/breed_p1_top10.csv\", index=False)"
   ]
  },
  {
   "cell_type": "markdown",
   "metadata": {},
   "source": [
    "<h5>Count of breeds predicted in P2</h5>"
   ]
  },
  {
   "cell_type": "code",
   "execution_count": 32,
   "metadata": {},
   "outputs": [
    {
     "data": {
      "text/plain": [
       "Labrador_retriever                104\n",
       "golden_retriever                   92\n",
       "Chihuahua                          44\n",
       "Pomeranian                         42\n",
       "Chesapeake_Bay_retriever           41\n",
       "French_bulldog                     41\n",
       "toy_poodle                         37\n",
       "cocker_spaniel                     34\n",
       "Siberian_husky                     33\n",
       "miniature_poodle                   33\n",
       "beagle                             28\n",
       "collie                             27\n",
       "Pembroke                           27\n",
       "Eskimo_dog                         27\n",
       "kuvasz                             26\n",
       "Italian_greyhound                  22\n",
       "American_Staffordshire_terrier     21\n",
       "Pekinese                           21\n",
       "miniature_pinscher                 20\n",
       "Samoyed                            20\n",
       "chow                               20\n",
       "toy_terrier                        20\n",
       "malinois                           20\n",
       "Norwegian_elkhound                 19\n",
       "Staffordshire_bullterrier          18\n",
       "pug                                17\n",
       "Irish_terrier                      17\n",
       "Shih-Tzu                           16\n",
       "whippet                            15\n",
       "Tibetan_mastiff                    15\n",
       "                                 ... \n",
       "basenji                             6\n",
       "Norwich_terrier                     5\n",
       "Yorkshire_terrier                   5\n",
       "Afghan_hound                        5\n",
       "Bedlington_terrier                  5\n",
       "otterhound                          4\n",
       "briard                              4\n",
       "dalmatian                           4\n",
       "Blenheim_spaniel                    4\n",
       "Saluki                              4\n",
       "Mexican_hairless                    4\n",
       "Border_terrier                      4\n",
       "wire-haired_fox_terrier             4\n",
       "miniature_schnauzer                 3\n",
       "dingo                               3\n",
       "Irish_wolfhound                     3\n",
       "Weimaraner                          3\n",
       "Scotch_terrier                      2\n",
       "curly-coated_retriever              2\n",
       "English_foxhound                    2\n",
       "Australian_terrier                  2\n",
       "giant_schnauzer                     2\n",
       "Sealyham_terrier                    2\n",
       "standard_schnauzer                  1\n",
       "affenpinscher                       1\n",
       "komondor                            1\n",
       "Kerry_blue_terrier                  1\n",
       "Bernese_mountain_dog                1\n",
       "Japanese_spaniel                    1\n",
       "African_hunting_dog                 1\n",
       "Name: p2, Length: 101, dtype: int64"
      ]
     },
     "execution_count": 32,
     "metadata": {},
     "output_type": "execute_result"
    }
   ],
   "source": [
    "df_i_pre.p2.value_counts()"
   ]
  },
  {
   "cell_type": "code",
   "execution_count": 33,
   "metadata": {},
   "outputs": [],
   "source": [
    "p2_count = df_i_pre.p2.value_counts()\n",
    "p2_count=p2_count[0:10]\n",
    "p2_count = pd.DataFrame({\"breed\": p2_count.index,\"count\":p2_count.values})\n",
    "p2_count.to_csv(\"./datasets/breed_p2_top10.csv\", index=False)"
   ]
  },
  {
   "cell_type": "markdown",
   "metadata": {},
   "source": [
    "<h5>Count of breeds predicted in P3</h5>"
   ]
  },
  {
   "cell_type": "code",
   "execution_count": 34,
   "metadata": {},
   "outputs": [
    {
     "data": {
      "text/plain": [
       "Labrador_retriever                79\n",
       "Chihuahua                         58\n",
       "golden_retriever                  48\n",
       "Eskimo_dog                        38\n",
       "kuvasz                            34\n",
       "Staffordshire_bullterrier         32\n",
       "chow                              32\n",
       "cocker_spaniel                    31\n",
       "beagle                            31\n",
       "toy_poodle                        29\n",
       "Pomeranian                        29\n",
       "Pekinese                          29\n",
       "Pembroke                          27\n",
       "Great_Pyrenees                    27\n",
       "Chesapeake_Bay_retriever          27\n",
       "French_bulldog                    26\n",
       "malamute                          26\n",
       "American_Staffordshire_terrier    24\n",
       "pug                               23\n",
       "basenji                           21\n",
       "bull_mastiff                      20\n",
       "toy_terrier                       20\n",
       "Siberian_husky                    19\n",
       "Shetland_sheepdog                 17\n",
       "boxer                             16\n",
       "Lakeland_terrier                  16\n",
       "dingo                             15\n",
       "standard_poodle                   15\n",
       "German_shepherd                   15\n",
       "collie                            14\n",
       "                                  ..\n",
       "schipperke                         6\n",
       "Border_terrier                     6\n",
       "flat-coated_retriever              5\n",
       "Greater_Swiss_Mountain_dog         5\n",
       "groenendael                        5\n",
       "dalmatian                          5\n",
       "giant_schnauzer                    5\n",
       "Japanese_spaniel                   4\n",
       "silky_terrier                      4\n",
       "Irish_water_spaniel                4\n",
       "Gordon_setter                      4\n",
       "Afghan_hound                       4\n",
       "malinois                           4\n",
       "black-and-tan_coonhound            4\n",
       "Mexican_hairless                   4\n",
       "miniature_schnauzer                4\n",
       "wire-haired_fox_terrier            3\n",
       "Scottish_deerhound                 3\n",
       "Blenheim_spaniel                   2\n",
       "Bouvier_des_Flandres               2\n",
       "Bernese_mountain_dog               2\n",
       "komondor                           2\n",
       "Walker_hound                       2\n",
       "Irish_wolfhound                    2\n",
       "briard                             2\n",
       "Sealyham_terrier                   2\n",
       "Kerry_blue_terrier                 1\n",
       "standard_schnauzer                 1\n",
       "affenpinscher                      1\n",
       "Sussex_spaniel                     1\n",
       "Name: p3, Length: 102, dtype: int64"
      ]
     },
     "execution_count": 34,
     "metadata": {},
     "output_type": "execute_result"
    }
   ],
   "source": [
    "df_i_pre.p3.value_counts()"
   ]
  },
  {
   "cell_type": "code",
   "execution_count": 35,
   "metadata": {},
   "outputs": [],
   "source": [
    "p3_count = df_i_pre.p3.value_counts()\n",
    "p3_count=p3_count[0:10]\n",
    "p3_count = pd.DataFrame({\"breed\": p3_count.index,\"count\":p3_count.values})\n",
    "p3_count.to_csv(\"./datasets/breed_p3_top10.csv\", index=False)"
   ]
  },
  {
   "cell_type": "markdown",
   "metadata": {},
   "source": [
    "<h5>Count of ratings</h5>"
   ]
  },
  {
   "cell_type": "code",
   "execution_count": 36,
   "metadata": {},
   "outputs": [
    {
     "data": {
      "text/plain": [
       "1.200000      340\n",
       "1.100000      317\n",
       "1.000000      296\n",
       "1.300000      180\n",
       "0.900000      114\n",
       "0.800000       77\n",
       "0.700000       38\n",
       "1.400000       21\n",
       "0.600000       19\n",
       "0.500000       16\n",
       "0.300000       11\n",
       "0.400000        8\n",
       "0.200000        5\n",
       "0.636364        1\n",
       "2.700000        1\n",
       "177.600000      1\n",
       "7.500000        1\n",
       "3.428571        1\n",
       "Name: rating, dtype: int64"
      ]
     },
     "execution_count": 36,
     "metadata": {},
     "output_type": "execute_result"
    }
   ],
   "source": [
    "w_t_archive[\"rating\"].value_counts()"
   ]
  },
  {
   "cell_type": "code",
   "execution_count": 37,
   "metadata": {},
   "outputs": [
    {
     "data": {
      "text/html": [
       "<div>\n",
       "<style scoped>\n",
       "    .dataframe tbody tr th:only-of-type {\n",
       "        vertical-align: middle;\n",
       "    }\n",
       "\n",
       "    .dataframe tbody tr th {\n",
       "        vertical-align: top;\n",
       "    }\n",
       "\n",
       "    .dataframe thead th {\n",
       "        text-align: right;\n",
       "    }\n",
       "</style>\n",
       "<table border=\"1\" class=\"dataframe\">\n",
       "  <thead>\n",
       "    <tr style=\"text-align: right;\">\n",
       "      <th></th>\n",
       "      <th>tweet_id</th>\n",
       "      <th>in_reply_to_status_id</th>\n",
       "      <th>in_reply_to_user_id</th>\n",
       "      <th>timestamp</th>\n",
       "      <th>source_x</th>\n",
       "      <th>text</th>\n",
       "      <th>expanded_urls</th>\n",
       "      <th>name</th>\n",
       "      <th>stage</th>\n",
       "      <th>rating</th>\n",
       "      <th>favorite_count</th>\n",
       "      <th>retweet_count</th>\n",
       "      <th>created_at</th>\n",
       "      <th>source_y</th>\n",
       "      <th>retweeted_status</th>\n",
       "      <th>url</th>\n",
       "    </tr>\n",
       "  </thead>\n",
       "  <tbody>\n",
       "    <tr>\n",
       "      <th>0</th>\n",
       "      <td>892420643555336193</td>\n",
       "      <td>nan</td>\n",
       "      <td>nan</td>\n",
       "      <td>2017-08-01 16:23:56</td>\n",
       "      <td>&lt;a href=\"http://twitter.com/download/iphone\" r...</td>\n",
       "      <td>This is Phineas. He's a mystical boy. Only eve...</td>\n",
       "      <td>https://twitter.com/dog_rates/status/892420643...</td>\n",
       "      <td>Phineas</td>\n",
       "      <td>NaN</td>\n",
       "      <td>1.3</td>\n",
       "      <td>38393</td>\n",
       "      <td>8431</td>\n",
       "      <td>Tue Aug 01 16:23:56 +0000 2017</td>\n",
       "      <td>Twitter for iPhone</td>\n",
       "      <td>Original tweet</td>\n",
       "      <td>https://t.co/MgUWQ76dJU</td>\n",
       "    </tr>\n",
       "    <tr>\n",
       "      <th>1</th>\n",
       "      <td>892177421306343426</td>\n",
       "      <td>nan</td>\n",
       "      <td>nan</td>\n",
       "      <td>2017-08-01 00:17:27</td>\n",
       "      <td>&lt;a href=\"http://twitter.com/download/iphone\" r...</td>\n",
       "      <td>This is Tilly. She's just checking pup on you....</td>\n",
       "      <td>https://twitter.com/dog_rates/status/892177421...</td>\n",
       "      <td>Tilly</td>\n",
       "      <td>NaN</td>\n",
       "      <td>1.3</td>\n",
       "      <td>32887</td>\n",
       "      <td>6212</td>\n",
       "      <td>Tue Aug 01 00:17:27 +0000 2017</td>\n",
       "      <td>Twitter for iPhone</td>\n",
       "      <td>Original tweet</td>\n",
       "      <td>https://t.co/aQFSeaCu9L</td>\n",
       "    </tr>\n",
       "    <tr>\n",
       "      <th>2</th>\n",
       "      <td>891815181378084864</td>\n",
       "      <td>nan</td>\n",
       "      <td>nan</td>\n",
       "      <td>2017-07-31 00:18:03</td>\n",
       "      <td>&lt;a href=\"http://twitter.com/download/iphone\" r...</td>\n",
       "      <td>This is Archie. He is a rare Norwegian Pouncin...</td>\n",
       "      <td>https://twitter.com/dog_rates/status/891815181...</td>\n",
       "      <td>Archie</td>\n",
       "      <td>NaN</td>\n",
       "      <td>1.2</td>\n",
       "      <td>24786</td>\n",
       "      <td>4111</td>\n",
       "      <td>Mon Jul 31 00:18:03 +0000 2017</td>\n",
       "      <td>Twitter for iPhone</td>\n",
       "      <td>Original tweet</td>\n",
       "      <td>https://t.co/r0YlrsGCgy</td>\n",
       "    </tr>\n",
       "    <tr>\n",
       "      <th>3</th>\n",
       "      <td>891689557279858688</td>\n",
       "      <td>nan</td>\n",
       "      <td>nan</td>\n",
       "      <td>2017-07-30 15:58:51</td>\n",
       "      <td>&lt;a href=\"http://twitter.com/download/iphone\" r...</td>\n",
       "      <td>This is Darla. She commenced a snooze mid meal...</td>\n",
       "      <td>https://twitter.com/dog_rates/status/891689557...</td>\n",
       "      <td>Darla</td>\n",
       "      <td>NaN</td>\n",
       "      <td>1.3</td>\n",
       "      <td>41726</td>\n",
       "      <td>8560</td>\n",
       "      <td>Sun Jul 30 15:58:51 +0000 2017</td>\n",
       "      <td>Twitter for iPhone</td>\n",
       "      <td>Original tweet</td>\n",
       "      <td>https://t.co/tD36da7qLQ</td>\n",
       "    </tr>\n",
       "    <tr>\n",
       "      <th>4</th>\n",
       "      <td>891327558926688256</td>\n",
       "      <td>nan</td>\n",
       "      <td>nan</td>\n",
       "      <td>2017-07-29 16:00:24</td>\n",
       "      <td>&lt;a href=\"http://twitter.com/download/iphone\" r...</td>\n",
       "      <td>This is Franklin. He would like you to stop ca...</td>\n",
       "      <td>https://twitter.com/dog_rates/status/891327558...</td>\n",
       "      <td>Franklin</td>\n",
       "      <td>NaN</td>\n",
       "      <td>1.2</td>\n",
       "      <td>39897</td>\n",
       "      <td>9286</td>\n",
       "      <td>Sat Jul 29 16:00:24 +0000 2017</td>\n",
       "      <td>Twitter for iPhone</td>\n",
       "      <td>Original tweet</td>\n",
       "      <td>https://t.co/0g0KMIVXZ3</td>\n",
       "    </tr>\n",
       "  </tbody>\n",
       "</table>\n",
       "</div>"
      ],
      "text/plain": [
       "             tweet_id in_reply_to_status_id in_reply_to_user_id  \\\n",
       "0  892420643555336193                   nan                 nan   \n",
       "1  892177421306343426                   nan                 nan   \n",
       "2  891815181378084864                   nan                 nan   \n",
       "3  891689557279858688                   nan                 nan   \n",
       "4  891327558926688256                   nan                 nan   \n",
       "\n",
       "            timestamp                                           source_x  \\\n",
       "0 2017-08-01 16:23:56  <a href=\"http://twitter.com/download/iphone\" r...   \n",
       "1 2017-08-01 00:17:27  <a href=\"http://twitter.com/download/iphone\" r...   \n",
       "2 2017-07-31 00:18:03  <a href=\"http://twitter.com/download/iphone\" r...   \n",
       "3 2017-07-30 15:58:51  <a href=\"http://twitter.com/download/iphone\" r...   \n",
       "4 2017-07-29 16:00:24  <a href=\"http://twitter.com/download/iphone\" r...   \n",
       "\n",
       "                                                text  \\\n",
       "0  This is Phineas. He's a mystical boy. Only eve...   \n",
       "1  This is Tilly. She's just checking pup on you....   \n",
       "2  This is Archie. He is a rare Norwegian Pouncin...   \n",
       "3  This is Darla. She commenced a snooze mid meal...   \n",
       "4  This is Franklin. He would like you to stop ca...   \n",
       "\n",
       "                                       expanded_urls      name stage  rating  \\\n",
       "0  https://twitter.com/dog_rates/status/892420643...   Phineas   NaN     1.3   \n",
       "1  https://twitter.com/dog_rates/status/892177421...     Tilly   NaN     1.3   \n",
       "2  https://twitter.com/dog_rates/status/891815181...    Archie   NaN     1.2   \n",
       "3  https://twitter.com/dog_rates/status/891689557...     Darla   NaN     1.3   \n",
       "4  https://twitter.com/dog_rates/status/891327558...  Franklin   NaN     1.2   \n",
       "\n",
       "   favorite_count  retweet_count                      created_at  \\\n",
       "0           38393           8431  Tue Aug 01 16:23:56 +0000 2017   \n",
       "1           32887           6212  Tue Aug 01 00:17:27 +0000 2017   \n",
       "2           24786           4111  Mon Jul 31 00:18:03 +0000 2017   \n",
       "3           41726           8560  Sun Jul 30 15:58:51 +0000 2017   \n",
       "4           39897           9286  Sat Jul 29 16:00:24 +0000 2017   \n",
       "\n",
       "             source_y retweeted_status                      url  \n",
       "0  Twitter for iPhone   Original tweet  https://t.co/MgUWQ76dJU  \n",
       "1  Twitter for iPhone   Original tweet  https://t.co/aQFSeaCu9L  \n",
       "2  Twitter for iPhone   Original tweet  https://t.co/r0YlrsGCgy  \n",
       "3  Twitter for iPhone   Original tweet  https://t.co/tD36da7qLQ  \n",
       "4  Twitter for iPhone   Original tweet  https://t.co/0g0KMIVXZ3  "
      ]
     },
     "execution_count": 37,
     "metadata": {},
     "output_type": "execute_result"
    }
   ],
   "source": [
    "w_t_archive.head(5)"
   ]
  },
  {
   "cell_type": "code",
   "execution_count": 38,
   "metadata": {},
   "outputs": [
    {
     "data": {
      "image/png": "[encoded data removed]",
      "text/plain": [
       "<Figure size 432x288 with 1 Axes>"
      ]
     },
     "metadata": {
      "needs_background": "light"
     },
     "output_type": "display_data"
    }
   ],
   "source": [
    "w_t_archive['rating'].value_counts().plot(kind = 'bar')\n",
    "plt.title('Histogram of the rating used')\n",
    "plt.xlabel('Rating')\n",
    "plt.ylabel('Count')\n",
    "\n",
    "fig = plt.gcf()\n",
    "fig.savefig('./graphs/histogram_rating_count.png',bbox_inches='tight');"
   ]
  },
  {
   "cell_type": "code",
   "execution_count": 39,
   "metadata": {},
   "outputs": [
    {
     "data": {
      "image/png": "[encoded data removed]",
      "text/plain": [
       "<Figure size 432x288 with 1 Axes>"
      ]
     },
     "metadata": {
      "needs_background": "light"
     },
     "output_type": "display_data"
    }
   ],
   "source": [
    "# Filtering extreme ratings\n",
    "temp = w_t_archive.loc[w_t_archive[\"rating\"] <= 2]\n",
    "temp['rating'].value_counts().plot(kind = 'bar')\n",
    "plt.title('Histogram of the rating used')\n",
    "plt.xlabel('Rating')\n",
    "plt.ylabel('Count')\n",
    "\n",
    "fig = plt.gcf()\n",
    "fig.savefig('./graphs/histogram_rating_count_ne.png',bbox_inches='tight');"
   ]
  },
  {
   "cell_type": "code",
   "execution_count": 40,
   "metadata": {},
   "outputs": [
    {
     "data": {
      "image/png": "[encoded data removed]",
      "text/plain": [
       "<Figure size 432x288 with 1 Axes>"
      ]
     },
     "metadata": {
      "needs_background": "light"
     },
     "output_type": "display_data"
    }
   ],
   "source": [
    "# Filtering extreme ratings\n",
    "temp = w_t_archive.loc[w_t_archive[\"rating\"] >= 2]\n",
    "temp['rating'].value_counts().plot(kind = 'bar')\n",
    "plt.title('Histogram of the rating used')\n",
    "plt.xlabel('Rating')\n",
    "plt.ylabel('Count')\n",
    "\n",
    "fig = plt.gcf()\n",
    "fig.savefig('./graphs/histogram_rating_count_e.png',bbox_inches='tight');"
   ]
  },
  {
   "cell_type": "markdown",
   "metadata": {},
   "source": [
    "<h5>Gathering data from ratings, retweet count and favorite tweet</h5>"
   ]
  },
  {
   "cell_type": "code",
   "execution_count": 41,
   "metadata": {},
   "outputs": [
    {
     "name": "stdout",
     "output_type": "stream",
     "text": [
      "\n",
      "Ratings in the Dataset\n",
      "[  1.3          1.2          1.4          0.5          1.1\n",
      "   0.6          1.           3.42857143   7.5          2.7\n",
      "   0.3          0.8          0.9          0.4          0.7\n",
      " 177.6          0.63636364   0.2       ]\n",
      "\n",
      "\n",
      "Lengh of Unique Ratings\n",
      "18\n"
     ]
    }
   ],
   "source": [
    "#Compile means per ratings\n",
    "\n",
    "ratings=w_t_archive.rating.unique()\n",
    "print(\"\\nRatings in the Dataset\")\n",
    "print(ratings)\n",
    "print(\"\\n\\nLengh of Unique Ratings\")\n",
    "print(len(ratings))\n",
    "column_list = [\"ratings\",\"mean_retweet_count\", \"mean_favorite_count\"]\n",
    "df_mean_rating= pd.DataFrame(columns = column_list)\n",
    "df_mean_rating[\"ratings\"]= ratings\n",
    "Temp = []\n",
    "for i in ratings:\n",
    "        Temp.append(w_t_archive.retweet_count.loc[w_t_archive[\"rating\"] == i].mean())\n",
    "df_mean_rating[\"mean_retweet_count\"]= Temp\n",
    "Temp = []\n",
    "for i in ratings:\n",
    "        Temp.append(w_t_archive.favorite_count.loc[w_t_archive[\"rating\"] == i].mean())\n",
    "df_mean_rating[\"mean_favorite_count\"]= Temp\n",
    "df_mean_rating.to_csv(\"./datasets/mean_ratings.csv\", index=False, encoding='utf-8')"
   ]
  },
  {
   "cell_type": "code",
   "execution_count": 42,
   "metadata": {},
   "outputs": [
    {
     "name": "stdout",
     "output_type": "stream",
     "text": [
      "       ratings  mean_retweet_count  mean_favorite_count\n",
      "0     1.300000         6171.883333         23031.155556\n",
      "1     1.200000         3196.629412         11984.729412\n",
      "2     1.400000        10043.428571         32207.047619\n",
      "3     0.500000         1638.937500          5291.750000\n",
      "4     1.100000         2100.552050          6634.482650\n",
      "5     0.600000         1235.000000          3612.789474\n",
      "6     1.000000         1357.851351          3922.706081\n",
      "7     3.428571         1588.000000          5750.000000\n",
      "8     7.500000         6758.000000         19641.000000\n",
      "9     2.700000         1796.000000          7059.000000\n",
      "10    0.300000          909.636364          2543.363636\n",
      "11    0.800000          825.077922          2322.038961\n",
      "12    0.900000          773.087719          2352.824561\n",
      "13    0.400000         1154.125000          3296.625000\n",
      "14    0.700000         1129.921053          3213.894737\n",
      "15  177.600000         2670.000000          5445.000000\n",
      "16    0.636364        18104.000000         39180.000000\n",
      "17    0.200000          984.600000          1888.800000\n"
     ]
    }
   ],
   "source": [
    "print(df_mean_rating)"
   ]
  },
  {
   "cell_type": "markdown",
   "metadata": {},
   "source": [
    "<h6>Images: Ratings vs Retweet Count</h6>"
   ]
  },
  {
   "cell_type": "code",
   "execution_count": 43,
   "metadata": {},
   "outputs": [
    {
     "data": {
      "image/png": "[encoded data removed]",
      "text/plain": [
       "<Figure size 432x288 with 1 Axes>"
      ]
     },
     "metadata": {
      "needs_background": "light"
     },
     "output_type": "display_data"
    }
   ],
   "source": [
    "df_mean_rating.plot(x=\"ratings\",y=\"mean_retweet_count\",kind = 'scatter')\n",
    "plt.title('Ratings per the mean of retweet count')\n",
    "plt.xlabel('Rating')\n",
    "plt.ylabel('Mean Retweet Count')\n",
    "\n",
    "fig = plt.gcf()\n",
    "fig.savefig('./graphs/scatter_plot_ratings_vs_mean_retweet_count.png',bbox_inches='tight')"
   ]
  },
  {
   "cell_type": "code",
   "execution_count": 44,
   "metadata": {},
   "outputs": [
    {
     "data": {
      "image/png": "[encoded data removed]",
      "text/plain": [
       "<Figure size 432x288 with 1 Axes>"
      ]
     },
     "metadata": {
      "needs_background": "light"
     },
     "output_type": "display_data"
    }
   ],
   "source": [
    "# Filtering extreme ratings\n",
    "temp = df_mean_rating.loc[df_mean_rating[\"ratings\"] <=2]\n",
    "temp.plot(x=\"ratings\",y=\"mean_retweet_count\",kind = 'scatter')\n",
    "plt.title('Ratings per the mean of retweet count')\n",
    "plt.xlabel('Rating')\n",
    "plt.ylabel('Mean Retweet Count')\n",
    "\n",
    "fig = plt.gcf()\n",
    "fig.savefig('./graphs/scatter_plot_ratings_vs_mean_retweet_count_ratings-bellow-2.png',bbox_inches='tight')"
   ]
  },
  {
   "cell_type": "code",
   "execution_count": 45,
   "metadata": {},
   "outputs": [
    {
     "data": {
      "image/png": "[encoded data removed]",
      "text/plain": [
       "<Figure size 432x288 with 1 Axes>"
      ]
     },
     "metadata": {
      "needs_background": "light"
     },
     "output_type": "display_data"
    }
   ],
   "source": [
    "# Filtering extreme ratings\n",
    "temp = df_mean_rating.loc[df_mean_rating[\"ratings\"] >=2]\n",
    "temp.plot(x=\"ratings\",y=\"mean_retweet_count\",kind = 'scatter')\n",
    "plt.title('Ratings per the mean of retweet count')\n",
    "plt.xlabel('Rating')\n",
    "plt.ylabel('Mean Retweet Count')\n",
    "\n",
    "fig = plt.gcf()\n",
    "fig.savefig('./graphs/scatter_plot_ratings_vs_mean_retweet_count_ratings-above-2.png',bbox_inches='tight')"
   ]
  },
  {
   "cell_type": "markdown",
   "metadata": {},
   "source": [
    "<h6>Images: Ratings vs Favorite Count</h6>"
   ]
  },
  {
   "cell_type": "code",
   "execution_count": 46,
   "metadata": {},
   "outputs": [
    {
     "data": {
      "image/png": "[encoded data removed]",
      "text/plain": [
       "<Figure size 432x288 with 1 Axes>"
      ]
     },
     "metadata": {
      "needs_background": "light"
     },
     "output_type": "display_data"
    }
   ],
   "source": [
    "df_mean_rating.plot(x=\"ratings\",y=\"mean_favorite_count\",kind = 'scatter')\n",
    "plt.title('Ratings per the mean of favorite count')\n",
    "plt.xlabel('Rating')\n",
    "plt.ylabel('Mean Favorite Count')\n",
    "\n",
    "fig = plt.gcf()\n",
    "fig.savefig('./graphs/scatter_plot_ratings_vs_mean_favorite_count.png',bbox_inches='tight')"
   ]
  },
  {
   "cell_type": "code",
   "execution_count": 47,
   "metadata": {},
   "outputs": [
    {
     "data": {
      "image/png": "[encoded data removed]",
      "text/plain": [
       "<Figure size 432x288 with 1 Axes>"
      ]
     },
     "metadata": {
      "needs_background": "light"
     },
     "output_type": "display_data"
    }
   ],
   "source": [
    "temp = df_mean_rating.loc[df_mean_rating[\"ratings\"] <=2]\n",
    "temp.plot(x=\"ratings\",y=\"mean_favorite_count\",kind = 'scatter')\n",
    "plt.title('Ratings per the mean of favorite count')\n",
    "plt.xlabel('Rating')\n",
    "plt.ylabel('Mean Favorite Count')\n",
    "\n",
    "fig = plt.gcf()\n",
    "fig.savefig('./graphs/scatter_plot_ratings_vs_mean_favorite_count_bellow-2.png',bbox_inches='tight')"
   ]
  },
  {
   "cell_type": "code",
   "execution_count": 48,
   "metadata": {},
   "outputs": [
    {
     "data": {
      "image/png": "[encoded data removed]",
      "text/plain": [
       "<Figure size 432x288 with 1 Axes>"
      ]
     },
     "metadata": {
      "needs_background": "light"
     },
     "output_type": "display_data"
    }
   ],
   "source": [
    "temp = df_mean_rating.loc[df_mean_rating[\"ratings\"] >=2]\n",
    "temp.plot(x=\"ratings\",y=\"mean_favorite_count\",kind = 'scatter')\n",
    "plt.title('Ratings per the mean of favorite count')\n",
    "plt.xlabel('Rating')\n",
    "plt.ylabel('Mean Favorite Count')\n",
    "\n",
    "fig = plt.gcf()\n",
    "fig.savefig('./graphs/scatter_plot_ratings_vs_mean_favorite_count_above-2.png',bbox_inches='tight')"
   ]
  },
  {
   "cell_type": "code",
   "execution_count": 49,
   "metadata": {},
   "outputs": [
    {
     "name": "stdout",
     "output_type": "stream",
     "text": [
      "       ratings  mean_retweet_count  mean_favorite_count\n",
      "7     3.428571              1588.0               5750.0\n",
      "8     7.500000              6758.0              19641.0\n",
      "9     2.700000              1796.0               7059.0\n",
      "15  177.600000              2670.0               5445.0\n"
     ]
    }
   ],
   "source": [
    "df_mr_b2 = df_mean_rating.loc[df_mean_rating[\"ratings\"] <=2]\n",
    "df_mr_b2.to_csv(\"./datasets/mean_ratings_bellow2.csv\", index=False, encoding='utf-8')\n",
    "df_mr_a2 = df_mean_rating.loc[df_mean_rating[\"ratings\"] >=2]\n",
    "df_mr_b2.to_csv(\"./datasets/mean_ratings_above2.csv\", index=False, encoding='utf-8')\n",
    "print(df_mr_a2)"
   ]
  }
 ],
 "metadata": {
  "kernelspec": {
   "display_name": "Python 3",
   "language": "python",
   "name": "python3"
  },
  "language_info": {
   "codemirror_mode": {
    "name": "ipython",
    "version": 3
   },
   "file_extension": ".py",
   "mimetype": "text/x-python",
   "name": "python",
   "nbconvert_exporter": "python",
   "pygments_lexer": "ipython3",
   "version": "3.6.6"
  }
 },
 "nbformat": 4,
 "nbformat_minor": 2
}
