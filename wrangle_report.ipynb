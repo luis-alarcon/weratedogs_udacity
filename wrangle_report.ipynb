{
 "cells": [
  {
   "cell_type": "markdown",
   "metadata": {},
   "source": [
    "<h1>We Rate Dogs: Report</h1>\n",
    "<h4>By Luis Alarcon</h4>"
   ]
  },
  {
   "cell_type": "markdown",
   "metadata": {},
   "source": [
    "<h2>Introduction</h2>\n",
    "\n",
    "<p>The project belongs to the second term of the Udacity Data Analyst Nanodegree. This project starts with three main datasets:</p>\n",
    "\n",
    "<ul>\n",
    "    <li><b>Image Predictions</b>: Udacity provides this file.</li>\n",
    "    <li><b>Twitter Archive</b>: Udacity provides this file.</li>\n",
    "    <li><b>Twitter related to WeRateDogs</b>: This is obtained through a Twitter Development API.</li>\n",
    "</ul>\n",
    "\n",
    "<h3>Datasets: General Characteristics</h3>\n",
    "\n",
    "<h4>Image Predictions</h4>\n",
    "<p>The image predictions dataset has 2075 entries, with 12 columns with an assortment of types.</p>\n",
    "\n",
    "<h4>Twitter Archive</h4>\n",
    "<p>The Twitter Archive dataset has 2356 entries with 17 columns with an assortment of types.</p>\n",
    "\n",
    "<h4>Twitter JSON</h4>\n",
    "<p>The Twitter JSON dataset has 2341 entries with seven selected columns with an object and int64 types. Also, in order to gather the data for this dataset, we distinguished whether the twitter ID from the Twitter Archive dataset was found using the Twitter Development API; if not found then the twitter ID will be stored in a separate file.</p>\n",
    "\n",
    "<h3>Quality Analysis</h3>\n",
    "\n",
    "<h4>Null Values</h4>\n",
    "\n",
    "</p>There are no null values in any of the datasets gathered.</p>\n",
    "\n",
    "<h4>Data Problems</h4>\n",
    "\n",
    "<p>After analysing the Twitter Archive dataset, some issues were found:</p>\n",
    "\n",
    "<ul>\n",
    "    <li><b>tweet_id:</b> The data type needs to be changed from int64 to object.</li>\n",
    "    <li><b>in_reply_to_status_id:</b> erroneous data types.</li>\n",
    "    <li><b>in_reply_to_user_id:</b> erroneous data types.</li>\n",
    "    <li><b>name:</b> check if the name of the dog is the one mentioned in the tweet text. if it is not found remove it</li>\n",
    "    <li><b>No retweets:</b> remove retweet data as well as columns associated with retweets.</li>\n",
    "    <li><b>tweets with ratings with images.</b></li>\n",
    "    <li><b>timestamp:</b> Change to datetime data type</li>\n",
    "    <li><b>doggo, floofer, pupper, puppo:</b> change to one variable.</li>\n",
    "    <li><b>rating:</b> Create a new column name rating which is the result of rating_numerator/rating_denomintor.</li>\n",
    "</ul>\n",
    "\n",
    "<p>All the errors found were amended.</p>\n",
    "\n",
    "<p>Another dataset that presented issues after the initial analysis was the Image Prediction dataset. These were the issues found:</p>\n",
    "\n",
    "<ul>\n",
    "    <li><b>p1:</b> Some of the breeds predicted are not breeds. Therefore we will find whether the breeds predicted belong from a list made.</li>\n",
    "    <li><b>p2:</b> Some of the breeds predicted are not breeds. Therefore we will find whether the breeds predicted belong from a list made.</li>\n",
    "    <li><b>p3:</b> Some of the breeds predicted are not breeds. Therefore we will find whether the breeds predicted belong from a list made.</li> \n",
    "</ul>\n",
    "\n",
    "<p>All issues found were amended/</p>\n",
    "\n",
    "<p>Lastly, we fused the Twitter Archive and the Twitter JSON file, and we stored all modifications into new DataFrames and new files.</p>\n",
    "\n",
    "<h3>Objectives</h3>\n",
    "\n",
    "<p>The objective of this project is to understand the data provided to the students. The main focus of this report will be to analyse the primary dataset for values within the favourite count, retweet count and how that does interact with the rating provided, as well as the rating distribution.</p>\n",
    "\n",
    "<p>Another aspect that we will only look at is the dog breed information in the image prediction file.</p>"
   ]
  },
  {
   "cell_type": "markdown",
   "metadata": {},
   "source": [
    "<h2>Data Analysis</h2>\n",
    "\n",
    "<p>The analysis started by finding the standard analysis of the Dataframe w_t_archive or working Twitter Archive file; the fusion between the Twitter Archive and Twitter JSON file.</p>\n"
   ]
  },
  {
   "cell_type": "code",
   "execution_count": 2,
   "metadata": {},
   "outputs": [],
   "source": [
    "import pandas as pd\n",
    "\n",
    "w_t_archive=pd.read_csv(\"./datasets/final_twitter-archive-enhanced.csv\")\n",
    "df_i_pre=pd.read_csv(\"./datasets/final_image-predictions.csv\")"
   ]
  },
  {
   "cell_type": "code",
   "execution_count": 3,
   "metadata": {},
   "outputs": [
    {
     "data": {
      "text/html": [
       "<div>\n",
       "<style scoped>\n",
       "    .dataframe tbody tr th:only-of-type {\n",
       "        vertical-align: middle;\n",
       "    }\n",
       "\n",
       "    .dataframe tbody tr th {\n",
       "        vertical-align: top;\n",
       "    }\n",
       "\n",
       "    .dataframe thead th {\n",
       "        text-align: right;\n",
       "    }\n",
       "</style>\n",
       "<table border=\"1\" class=\"dataframe\">\n",
       "  <thead>\n",
       "    <tr style=\"text-align: right;\">\n",
       "      <th></th>\n",
       "      <th>tweet_id</th>\n",
       "      <th>in_reply_to_status_id</th>\n",
       "      <th>in_reply_to_user_id</th>\n",
       "      <th>rating</th>\n",
       "      <th>favorite_count</th>\n",
       "      <th>retweet_count</th>\n",
       "    </tr>\n",
       "  </thead>\n",
       "  <tbody>\n",
       "    <tr>\n",
       "      <th>count</th>\n",
       "      <td>1.447000e+03</td>\n",
       "      <td>1.000000e+00</td>\n",
       "      <td>1.000000e+00</td>\n",
       "      <td>1447.000000</td>\n",
       "      <td>1447.000000</td>\n",
       "      <td>1447.000000</td>\n",
       "    </tr>\n",
       "    <tr>\n",
       "      <th>mean</th>\n",
       "      <td>7.417931e+17</td>\n",
       "      <td>6.678065e+17</td>\n",
       "      <td>4.196984e+09</td>\n",
       "      <td>1.192581</td>\n",
       "      <td>9000.928127</td>\n",
       "      <td>2609.447132</td>\n",
       "    </tr>\n",
       "    <tr>\n",
       "      <th>std</th>\n",
       "      <td>6.856868e+16</td>\n",
       "      <td>NaN</td>\n",
       "      <td>NaN</td>\n",
       "      <td>4.648617</td>\n",
       "      <td>11881.523847</td>\n",
       "      <td>3947.478723</td>\n",
       "    </tr>\n",
       "    <tr>\n",
       "      <th>min</th>\n",
       "      <td>6.660293e+17</td>\n",
       "      <td>6.678065e+17</td>\n",
       "      <td>4.196984e+09</td>\n",
       "      <td>0.200000</td>\n",
       "      <td>105.000000</td>\n",
       "      <td>20.000000</td>\n",
       "    </tr>\n",
       "    <tr>\n",
       "      <th>25%</th>\n",
       "      <td>6.782950e+17</td>\n",
       "      <td>6.678065e+17</td>\n",
       "      <td>4.196984e+09</td>\n",
       "      <td>1.000000</td>\n",
       "      <td>2149.500000</td>\n",
       "      <td>638.500000</td>\n",
       "    </tr>\n",
       "    <tr>\n",
       "      <th>50%</th>\n",
       "      <td>7.186133e+17</td>\n",
       "      <td>6.678065e+17</td>\n",
       "      <td>4.196984e+09</td>\n",
       "      <td>1.100000</td>\n",
       "      <td>4494.000000</td>\n",
       "      <td>1433.000000</td>\n",
       "    </tr>\n",
       "    <tr>\n",
       "      <th>75%</th>\n",
       "      <td>7.961149e+17</td>\n",
       "      <td>6.678065e+17</td>\n",
       "      <td>4.196984e+09</td>\n",
       "      <td>1.200000</td>\n",
       "      <td>11534.500000</td>\n",
       "      <td>3145.500000</td>\n",
       "    </tr>\n",
       "    <tr>\n",
       "      <th>max</th>\n",
       "      <td>8.924206e+17</td>\n",
       "      <td>6.678065e+17</td>\n",
       "      <td>4.196984e+09</td>\n",
       "      <td>177.600000</td>\n",
       "      <td>123018.000000</td>\n",
       "      <td>60162.000000</td>\n",
       "    </tr>\n",
       "  </tbody>\n",
       "</table>\n",
       "</div>"
      ],
      "text/plain": [
       "           tweet_id  in_reply_to_status_id  in_reply_to_user_id       rating  \\\n",
       "count  1.447000e+03           1.000000e+00         1.000000e+00  1447.000000   \n",
       "mean   7.417931e+17           6.678065e+17         4.196984e+09     1.192581   \n",
       "std    6.856868e+16                    NaN                  NaN     4.648617   \n",
       "min    6.660293e+17           6.678065e+17         4.196984e+09     0.200000   \n",
       "25%    6.782950e+17           6.678065e+17         4.196984e+09     1.000000   \n",
       "50%    7.186133e+17           6.678065e+17         4.196984e+09     1.100000   \n",
       "75%    7.961149e+17           6.678065e+17         4.196984e+09     1.200000   \n",
       "max    8.924206e+17           6.678065e+17         4.196984e+09   177.600000   \n",
       "\n",
       "       favorite_count  retweet_count  \n",
       "count     1447.000000    1447.000000  \n",
       "mean      9000.928127    2609.447132  \n",
       "std      11881.523847    3947.478723  \n",
       "min        105.000000      20.000000  \n",
       "25%       2149.500000     638.500000  \n",
       "50%       4494.000000    1433.000000  \n",
       "75%      11534.500000    3145.500000  \n",
       "max     123018.000000   60162.000000  "
      ]
     },
     "execution_count": 3,
     "metadata": {},
     "output_type": "execute_result"
    }
   ],
   "source": [
    "w_t_archive.describe()"
   ]
  },
  {
   "cell_type": "markdown",
   "metadata": {},
   "source": [
    "<p>It shows that the mean rating is 1.93 and the mean favourite count is 9001.8, and the mean retweet count is 2609.90. Further information is shown in the table presented before.</p>\n",
    "\n",
    "<p>The Image Prediction has 3 columns named:</p>\n",
    "\n",
    "<ul>\n",
    "    <li>p1</li>\n",
    "    <li>p2</li>\n",
    "    <li>p3</li>\n",
    "</ul>"
   ]
  },
  {
   "cell_type": "code",
   "execution_count": 4,
   "metadata": {},
   "outputs": [],
   "source": [
    "p1_count = pd.read_csv(\"./datasets/breed_p1_top10.csv\")\n",
    "p2_count = pd.read_csv(\"./datasets/breed_p2_top10.csv\")\n",
    "p3_count = pd.read_csv(\"./datasets/breed_p3_top10.csv\")"
   ]
  },
  {
   "cell_type": "code",
   "execution_count": 8,
   "metadata": {},
   "outputs": [
    {
     "name": "stdout",
     "output_type": "stream",
     "text": [
      "                breed  count\n",
      "0    golden_retriever    150\n",
      "1  Labrador_retriever    100\n",
      "2            Pembroke     89\n",
      "3           Chihuahua     83\n",
      "4                 pug     57\n",
      "5                chow     44\n",
      "6             Samoyed     43\n",
      "7          toy_poodle     39\n",
      "8          Pomeranian     38\n",
      "9      cocker_spaniel     30\n"
     ]
    }
   ],
   "source": [
    "print(p1_count)"
   ]
  },
  {
   "cell_type": "code",
   "execution_count": 10,
   "metadata": {},
   "outputs": [
    {
     "name": "stdout",
     "output_type": "stream",
     "text": [
      "                      breed  count\n",
      "0        Labrador_retriever    104\n",
      "1          golden_retriever     92\n",
      "2                 Chihuahua     44\n",
      "3                Pomeranian     42\n",
      "4  Chesapeake_Bay_retriever     41\n",
      "5            French_bulldog     41\n",
      "6                toy_poodle     37\n",
      "7            cocker_spaniel     34\n",
      "8            Siberian_husky     33\n",
      "9          miniature_poodle     33\n"
     ]
    }
   ],
   "source": [
    "print(p2_count)"
   ]
  },
  {
   "cell_type": "code",
   "execution_count": 9,
   "metadata": {},
   "outputs": [
    {
     "name": "stdout",
     "output_type": "stream",
     "text": [
      "                       breed  count\n",
      "0         Labrador_retriever     79\n",
      "1                  Chihuahua     58\n",
      "2           golden_retriever     48\n",
      "3                 Eskimo_dog     38\n",
      "4                     kuvasz     34\n",
      "5  Staffordshire_bullterrier     32\n",
      "6                       chow     32\n",
      "7             cocker_spaniel     31\n",
      "8                     beagle     31\n",
      "9                 toy_poodle     29\n"
     ]
    }
   ],
   "source": [
    "print(p3_count)"
   ]
  },
  {
   "cell_type": "markdown",
   "metadata": {},
   "source": [
    "<p>It seems to be that there is an overwhelming preference towards labrador retrievers and golden retrievers. The data from the image prediction dataset shows that those two breeds are the among the top 3 most common breeds. The third most common breed is the poodle, which in all three appears in the top three.</p>\n",
    "\n",
    "<p>The first image set of data is shown in the following histogram. It shows that the rating with the highest value is 1.2, followed by 1.1 and 1.0. There are some ratings with a count of one, and these ratings are 2.7 177.6, 7.5 and 3.43.\n",
    "</p>\n",
    "\n",
    "<img src=\"./graphs/histogram_rating_count.png\" />\n",
    "<img src=\"./graphs/histogram_rating_count_ne.png\" />\n",
    "<img src=\"./graphs/histogram_rating_count_e.png\" />\n",
    "\n",
    "<p>The following information gathered is from the rating values vs the mean and retweet count. The scatter plot involves all the data and shows a high concentration towards value below 2; this is due to the majority of ratings been below 2.</p>\n",
    "\n",
    "<img src=\"./graphs/scatter_plot_ratings_vs_mean_retweet_count.png\" />\n",
    "\n",
    "<p>A more refined image for ratings below 2 shows a gradual increase in retweet count in ratings higher than 1. There is a small increase in retweet count between ratings 0.4 and 0.6; however, there is an outlier between 0.6 to 0.7. As for ratings above 2, there is not a recognisable pattern.\n",
    "</p>\n",
    "<img src=\"./graphs/scatter_plot_ratings_vs_mean_retweet_count_ratings-bellow-2.png\" />\n",
    "<img src=\"./graphs/scatter_plot_ratings_vs_mean_retweet_count_ratings-above-2.png\" />\n",
    "\n",
    "<p>The last information provided here is from the rating values vs the mean favourite count. A scatter plot shows all the data and shows a high concentration towards value below 2; this is due to the majority of ratings been below 2.</p>\n",
    "\n",
    "<img src=\"./graphs/scatter_plot_ratings_vs_mean_favorite_count.png\" />\n",
    "\n",
    "<p>The same pattern from the rating vs mean retweet count is shown in the data rating favourite count. </p>\n",
    "\n",
    "<img src=\"./graphs/scatter_plot_ratings_vs_mean_favorite_count_bellow-2.png\" />\n",
    "<img src=\"./graphs/scatter_plot_ratings_vs_mean_favorite_count_above-2.png\" />"
   ]
  },
  {
   "cell_type": "markdown",
   "metadata": {},
   "source": [
    "<h2>Further development</h2>\n",
    "\n",
    "<p>A lot more can be done with these data such as further analysis of location vs ratings as well as time vs ratings. Perhaps an increase in a rating is slightly influenced by the time or day</p>"
   ]
  }
 ],
 "metadata": {
  "kernelspec": {
   "display_name": "Python 3",
   "language": "python",
   "name": "python3"
  },
  "language_info": {
   "codemirror_mode": {
    "name": "ipython",
    "version": 3
   },
   "file_extension": ".py",
   "mimetype": "text/x-python",
   "name": "python",
   "nbconvert_exporter": "python",
   "pygments_lexer": "ipython3",
   "version": "3.6.6"
  }
 },
 "nbformat": 4,
 "nbformat_minor": 2
}
